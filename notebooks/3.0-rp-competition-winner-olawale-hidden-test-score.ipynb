{
 "cells": [
  {
   "cell_type": "code",
   "execution_count": 1,
   "metadata": {},
   "outputs": [],
   "source": [
    "import numpy as np\n",
    "import pandas as pd\n",
    "\n",
    "from src.definitions import ROOT_DIR\n",
    "\n",
    "from src.data.download_data import download_competition_files\n",
    "from src.model.train_model import score"
   ]
  },
  {
   "cell_type": "code",
   "execution_count": 2,
   "metadata": {},
   "outputs": [],
   "source": [
    "%load_ext autoreload\n",
    "%autoreload 2"
   ]
  },
  {
   "cell_type": "markdown",
   "metadata": {},
   "source": [
    "# Import data\n",
    "\n",
    "The competition winner prediction on the hidden test data is not found on the competition data folder (GitHub or Google Drive). To create it, I pointed Colab to the [winner notebook](https://github.com/bolgebrygg/Force-2020-Machine-Learning-competition/blob/master/lithology_competition/code/OlawaleI/FORCE_Submission_File.ipynb) on GitHub, and edited it to run with the hidden test data. The result is notebook: 2.0-rp-competition-winner-olawale-raw-colab-hidden-test. It works as-is in Colab, but it struggles to run on my local machine (possibly GPU misconfiguration). Note: My notebooks with `colab` on their name are meant to be run in Colab.\n",
    "\n",
    "Also, I updated the data input folder to point to the [competition shared Google Drive folder](https://drive.google.com/drive/folders/1GIkjq4fwgwbiqVQxYwoJnOJWVobZ91pL) by adding a shorcut to my personal Google Drive. This way I can access the data without duplicating cloud storage.\n",
    "\n",
    "Finally, I created a [Google Drive shared folder](https://drive.google.com/drive/folders/1ilFw-gfCSbvRjkbEDygTjuxN-Ixa3wxg) named `lith_pred` to keep the results of the Colab runs.\n",
    "\n",
    "In this notebook, I explore the result of running the winning code on the hidden test data, in an attemp to reproduce and test the scoring function."
   ]
  },
  {
   "cell_type": "markdown",
   "metadata": {},
   "source": [
    "## Lithology mapping"
   ]
  },
  {
   "cell_type": "code",
   "execution_count": 3,
   "metadata": {},
   "outputs": [],
   "source": [
    "lithology_numbers = {30000: 0,\n",
    "                     65030: 1,\n",
    "                     65000: 2,\n",
    "                     80000: 3,\n",
    "                     74000: 4,\n",
    "                     70000: 5,\n",
    "                     70032: 6,\n",
    "                     88000: 7,\n",
    "                     86000: 8,\n",
    "                     99000: 9,\n",
    "                     90000: 10,\n",
    "                     93000: 11}"
   ]
  },
  {
   "cell_type": "markdown",
   "metadata": {},
   "source": [
    "## Olawale hidden y_pred"
   ]
  },
  {
   "cell_type": "code",
   "execution_count": 4,
   "metadata": {},
   "outputs": [],
   "source": [
    "output_root = ROOT_DIR / 'data/external'\n",
    "olawale_hidden_test_pred_path = output_root / 'olawale_hidden_test_pred.csv'"
   ]
  },
  {
   "cell_type": "code",
   "execution_count": 5,
   "metadata": {},
   "outputs": [],
   "source": [
    "if not olawale_hidden_test_pred_path.is_file():\n",
    "    download_competition_files()"
   ]
  },
  {
   "cell_type": "code",
   "execution_count": 6,
   "metadata": {},
   "outputs": [],
   "source": [
    "olawale_hidden_test_pred = pd.read_csv(olawale_hidden_test_pred_path)"
   ]
  },
  {
   "cell_type": "code",
   "execution_count": 7,
   "metadata": {},
   "outputs": [
    {
     "data": {
      "text/html": [
       "<div>\n",
       "<style scoped>\n",
       "    .dataframe tbody tr th:only-of-type {\n",
       "        vertical-align: middle;\n",
       "    }\n",
       "\n",
       "    .dataframe tbody tr th {\n",
       "        vertical-align: top;\n",
       "    }\n",
       "\n",
       "    .dataframe thead th {\n",
       "        text-align: right;\n",
       "    }\n",
       "</style>\n",
       "<table border=\"1\" class=\"dataframe\">\n",
       "  <thead>\n",
       "    <tr style=\"text-align: right;\">\n",
       "      <th></th>\n",
       "      <th># lithology</th>\n",
       "    </tr>\n",
       "  </thead>\n",
       "  <tbody>\n",
       "    <tr>\n",
       "      <th>0</th>\n",
       "      <td>65000</td>\n",
       "    </tr>\n",
       "    <tr>\n",
       "      <th>1</th>\n",
       "      <td>65000</td>\n",
       "    </tr>\n",
       "    <tr>\n",
       "      <th>2</th>\n",
       "      <td>65000</td>\n",
       "    </tr>\n",
       "    <tr>\n",
       "      <th>3</th>\n",
       "      <td>65000</td>\n",
       "    </tr>\n",
       "    <tr>\n",
       "      <th>4</th>\n",
       "      <td>65000</td>\n",
       "    </tr>\n",
       "  </tbody>\n",
       "</table>\n",
       "</div>"
      ],
      "text/plain": [
       "   # lithology\n",
       "0        65000\n",
       "1        65000\n",
       "2        65000\n",
       "3        65000\n",
       "4        65000"
      ]
     },
     "execution_count": 7,
     "metadata": {},
     "output_type": "execute_result"
    }
   ],
   "source": [
    "olawale_hidden_test_pred.head()"
   ]
  },
  {
   "cell_type": "code",
   "execution_count": 8,
   "metadata": {},
   "outputs": [
    {
     "data": {
      "text/plain": [
       "array([2, 2, 2, ..., 1, 2, 2])"
      ]
     },
     "execution_count": 8,
     "metadata": {},
     "output_type": "execute_result"
    }
   ],
   "source": [
    "y_pred = olawale_hidden_test_pred['# lithology'].map(lithology_numbers).values.ravel()\n",
    "\n",
    "y_pred"
   ]
  },
  {
   "cell_type": "markdown",
   "metadata": {},
   "source": [
    "## y_true"
   ]
  },
  {
   "cell_type": "code",
   "execution_count": 9,
   "metadata": {},
   "outputs": [],
   "source": [
    "csv_hidden_test_path = ROOT_DIR / 'data/external/CSV_hidden_test.csv'\n",
    "\n",
    "csv_hidden_test = pd.read_csv(csv_hidden_test_path, ';')"
   ]
  },
  {
   "cell_type": "code",
   "execution_count": 10,
   "metadata": {},
   "outputs": [
    {
     "data": {
      "text/html": [
       "<div>\n",
       "<style scoped>\n",
       "    .dataframe tbody tr th:only-of-type {\n",
       "        vertical-align: middle;\n",
       "    }\n",
       "\n",
       "    .dataframe tbody tr th {\n",
       "        vertical-align: top;\n",
       "    }\n",
       "\n",
       "    .dataframe thead th {\n",
       "        text-align: right;\n",
       "    }\n",
       "</style>\n",
       "<table border=\"1\" class=\"dataframe\">\n",
       "  <thead>\n",
       "    <tr style=\"text-align: right;\">\n",
       "      <th></th>\n",
       "      <th>WELL</th>\n",
       "      <th>DEPTH_MD</th>\n",
       "      <th>X_LOC</th>\n",
       "      <th>Y_LOC</th>\n",
       "      <th>Z_LOC</th>\n",
       "      <th>GROUP</th>\n",
       "      <th>FORMATION</th>\n",
       "      <th>CALI</th>\n",
       "      <th>RSHA</th>\n",
       "      <th>RMED</th>\n",
       "      <th>...</th>\n",
       "      <th>ROP</th>\n",
       "      <th>DTS</th>\n",
       "      <th>DCAL</th>\n",
       "      <th>DRHO</th>\n",
       "      <th>MUDWEIGHT</th>\n",
       "      <th>RMIC</th>\n",
       "      <th>ROPA</th>\n",
       "      <th>RXO</th>\n",
       "      <th>FORCE_2020_LITHOFACIES_LITHOLOGY</th>\n",
       "      <th>FORCE_2020_LITHOFACIES_CONFIDENCE</th>\n",
       "    </tr>\n",
       "  </thead>\n",
       "  <tbody>\n",
       "    <tr>\n",
       "      <th>0</th>\n",
       "      <td>15/9-23</td>\n",
       "      <td>1518.280</td>\n",
       "      <td>433906.75</td>\n",
       "      <td>6460000.5</td>\n",
       "      <td>-1493.241821</td>\n",
       "      <td>HORDALAND GP.</td>\n",
       "      <td>Skade Fm.</td>\n",
       "      <td>15.506232</td>\n",
       "      <td>NaN</td>\n",
       "      <td>NaN</td>\n",
       "      <td>...</td>\n",
       "      <td>146.526276</td>\n",
       "      <td>326.451263</td>\n",
       "      <td>-1.993768</td>\n",
       "      <td>0.109706</td>\n",
       "      <td>NaN</td>\n",
       "      <td>NaN</td>\n",
       "      <td>88.968864</td>\n",
       "      <td>NaN</td>\n",
       "      <td>65000</td>\n",
       "      <td>3.0</td>\n",
       "    </tr>\n",
       "    <tr>\n",
       "      <th>1</th>\n",
       "      <td>15/9-23</td>\n",
       "      <td>1518.432</td>\n",
       "      <td>433906.75</td>\n",
       "      <td>6460000.5</td>\n",
       "      <td>-1493.393799</td>\n",
       "      <td>HORDALAND GP.</td>\n",
       "      <td>Skade Fm.</td>\n",
       "      <td>18.524611</td>\n",
       "      <td>NaN</td>\n",
       "      <td>NaN</td>\n",
       "      <td>...</td>\n",
       "      <td>147.605148</td>\n",
       "      <td>322.926361</td>\n",
       "      <td>1.024611</td>\n",
       "      <td>-0.006418</td>\n",
       "      <td>NaN</td>\n",
       "      <td>NaN</td>\n",
       "      <td>92.287186</td>\n",
       "      <td>NaN</td>\n",
       "      <td>65000</td>\n",
       "      <td>3.0</td>\n",
       "    </tr>\n",
       "    <tr>\n",
       "      <th>2</th>\n",
       "      <td>15/9-23</td>\n",
       "      <td>1518.584</td>\n",
       "      <td>433906.75</td>\n",
       "      <td>6460000.5</td>\n",
       "      <td>-1493.545776</td>\n",
       "      <td>HORDALAND GP.</td>\n",
       "      <td>Skade Fm.</td>\n",
       "      <td>18.855669</td>\n",
       "      <td>NaN</td>\n",
       "      <td>NaN</td>\n",
       "      <td>...</td>\n",
       "      <td>140.783127</td>\n",
       "      <td>325.283142</td>\n",
       "      <td>1.355668</td>\n",
       "      <td>0.022769</td>\n",
       "      <td>NaN</td>\n",
       "      <td>NaN</td>\n",
       "      <td>95.605499</td>\n",
       "      <td>NaN</td>\n",
       "      <td>65000</td>\n",
       "      <td>3.0</td>\n",
       "    </tr>\n",
       "    <tr>\n",
       "      <th>3</th>\n",
       "      <td>15/9-23</td>\n",
       "      <td>1518.736</td>\n",
       "      <td>433906.75</td>\n",
       "      <td>6460000.5</td>\n",
       "      <td>-1493.697754</td>\n",
       "      <td>HORDALAND GP.</td>\n",
       "      <td>Skade Fm.</td>\n",
       "      <td>19.163353</td>\n",
       "      <td>NaN</td>\n",
       "      <td>NaN</td>\n",
       "      <td>...</td>\n",
       "      <td>125.159531</td>\n",
       "      <td>334.233185</td>\n",
       "      <td>1.663353</td>\n",
       "      <td>0.024972</td>\n",
       "      <td>NaN</td>\n",
       "      <td>NaN</td>\n",
       "      <td>98.923820</td>\n",
       "      <td>NaN</td>\n",
       "      <td>65000</td>\n",
       "      <td>3.0</td>\n",
       "    </tr>\n",
       "    <tr>\n",
       "      <th>4</th>\n",
       "      <td>15/9-23</td>\n",
       "      <td>1518.888</td>\n",
       "      <td>433906.75</td>\n",
       "      <td>6460000.5</td>\n",
       "      <td>-1493.849609</td>\n",
       "      <td>HORDALAND GP.</td>\n",
       "      <td>Skade Fm.</td>\n",
       "      <td>18.489744</td>\n",
       "      <td>NaN</td>\n",
       "      <td>0.849849</td>\n",
       "      <td>...</td>\n",
       "      <td>107.576691</td>\n",
       "      <td>330.952362</td>\n",
       "      <td>0.989743</td>\n",
       "      <td>0.024527</td>\n",
       "      <td>NaN</td>\n",
       "      <td>NaN</td>\n",
       "      <td>102.242142</td>\n",
       "      <td>NaN</td>\n",
       "      <td>65000</td>\n",
       "      <td>3.0</td>\n",
       "    </tr>\n",
       "  </tbody>\n",
       "</table>\n",
       "<p>5 rows × 29 columns</p>\n",
       "</div>"
      ],
      "text/plain": [
       "      WELL  DEPTH_MD      X_LOC      Y_LOC        Z_LOC          GROUP  \\\n",
       "0  15/9-23  1518.280  433906.75  6460000.5 -1493.241821  HORDALAND GP.   \n",
       "1  15/9-23  1518.432  433906.75  6460000.5 -1493.393799  HORDALAND GP.   \n",
       "2  15/9-23  1518.584  433906.75  6460000.5 -1493.545776  HORDALAND GP.   \n",
       "3  15/9-23  1518.736  433906.75  6460000.5 -1493.697754  HORDALAND GP.   \n",
       "4  15/9-23  1518.888  433906.75  6460000.5 -1493.849609  HORDALAND GP.   \n",
       "\n",
       "   FORMATION       CALI  RSHA      RMED  ...         ROP         DTS  \\\n",
       "0  Skade Fm.  15.506232   NaN       NaN  ...  146.526276  326.451263   \n",
       "1  Skade Fm.  18.524611   NaN       NaN  ...  147.605148  322.926361   \n",
       "2  Skade Fm.  18.855669   NaN       NaN  ...  140.783127  325.283142   \n",
       "3  Skade Fm.  19.163353   NaN       NaN  ...  125.159531  334.233185   \n",
       "4  Skade Fm.  18.489744   NaN  0.849849  ...  107.576691  330.952362   \n",
       "\n",
       "       DCAL      DRHO  MUDWEIGHT  RMIC        ROPA  RXO  \\\n",
       "0 -1.993768  0.109706        NaN   NaN   88.968864  NaN   \n",
       "1  1.024611 -0.006418        NaN   NaN   92.287186  NaN   \n",
       "2  1.355668  0.022769        NaN   NaN   95.605499  NaN   \n",
       "3  1.663353  0.024972        NaN   NaN   98.923820  NaN   \n",
       "4  0.989743  0.024527        NaN   NaN  102.242142  NaN   \n",
       "\n",
       "   FORCE_2020_LITHOFACIES_LITHOLOGY  FORCE_2020_LITHOFACIES_CONFIDENCE  \n",
       "0                             65000                                3.0  \n",
       "1                             65000                                3.0  \n",
       "2                             65000                                3.0  \n",
       "3                             65000                                3.0  \n",
       "4                             65000                                3.0  \n",
       "\n",
       "[5 rows x 29 columns]"
      ]
     },
     "execution_count": 10,
     "metadata": {},
     "output_type": "execute_result"
    }
   ],
   "source": [
    "csv_hidden_test.head()"
   ]
  },
  {
   "cell_type": "code",
   "execution_count": 11,
   "metadata": {},
   "outputs": [],
   "source": [
    "y_true = csv_hidden_test['FORCE_2020_LITHOFACIES_LITHOLOGY'].map(lithology_numbers).values.ravel()"
   ]
  },
  {
   "cell_type": "markdown",
   "metadata": {},
   "source": [
    "# Score"
   ]
  },
  {
   "cell_type": "code",
   "execution_count": 12,
   "metadata": {},
   "outputs": [],
   "source": [
    "olawale_hidden_test_score = score(y_true, y_pred)"
   ]
  },
  {
   "cell_type": "code",
   "execution_count": 14,
   "metadata": {},
   "outputs": [
    {
     "name": "stdout",
     "output_type": "stream",
     "text": [
      "Olawale hidden test score is: -0.4710\n"
     ]
    }
   ],
   "source": [
    "print(f'Olawale hidden test score is: {olawale_hidden_test_score:.4f}')"
   ]
  },
  {
   "cell_type": "markdown",
   "metadata": {},
   "source": [
    "This is a little higher compared to the reported -0.4690 final test score. This could be due to the randomness of the process."
   ]
  }
 ],
 "metadata": {
  "kernelspec": {
   "display_name": "lith_pred",
   "language": "python",
   "name": "lith_pred"
  },
  "language_info": {
   "codemirror_mode": {
    "name": "ipython",
    "version": 3
   },
   "file_extension": ".py",
   "mimetype": "text/x-python",
   "name": "python",
   "nbconvert_exporter": "python",
   "pygments_lexer": "ipython3",
   "version": "3.8.6"
  },
  "toc": {
   "base_numbering": 1,
   "nav_menu": {},
   "number_sections": true,
   "sideBar": true,
   "skip_h1_title": false,
   "title_cell": "Table of Contents",
   "title_sidebar": "Contents",
   "toc_cell": false,
   "toc_position": {},
   "toc_section_display": true,
   "toc_window_display": false
  }
 },
 "nbformat": 4,
 "nbformat_minor": 4
}
