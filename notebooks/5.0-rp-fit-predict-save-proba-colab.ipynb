{
 "cells": [
  {
   "cell_type": "code",
   "execution_count": 1,
   "metadata": {
    "executionInfo": {
     "elapsed": 1137,
     "status": "ok",
     "timestamp": 1611833919547,
     "user": {
      "displayName": "Rafael Pinto",
      "photoUrl": "",
      "userId": "01213912175113627450"
     },
     "user_tz": 360
    },
    "id": "I2sl9W3Au1hZ"
   },
   "outputs": [],
   "source": [
    "from pathlib import Path\n",
    "import pickle\n",
    "\n",
    "import numpy as np\n",
    "import numpy.random as nr\n",
    "\n",
    "import matplotlib\n",
    "import matplotlib.pyplot as plt\n",
    "\n",
    "import pandas as pd\n",
    "\n",
    "import sklearn\n",
    "from sklearn.linear_model import LogisticRegression\n",
    "from sklearn import preprocessing\n",
    "import sklearn.model_selection as ms\n",
    "from sklearn.model_selection import StratifiedKFold\n",
    "from sklearn.metrics import accuracy_score, f1_score\n",
    "\n",
    "import xgboost as xgb\n",
    "from xgboost import XGBClassifier"
   ]
  },
  {
   "cell_type": "code",
   "execution_count": 2,
   "metadata": {
    "colab": {
     "base_uri": "https://localhost:8080/"
    },
    "executionInfo": {
     "elapsed": 581,
     "status": "ok",
     "timestamp": 1611833935180,
     "user": {
      "displayName": "Rafael Pinto",
      "photoUrl": "",
      "userId": "01213912175113627450"
     },
     "user_tz": 360
    },
    "id": "QyMvK7e8u1hg",
    "outputId": "7d72e941-2582-4cd8-b051-4000c5c48222"
   },
   "outputs": [
    {
     "name": "stdout",
     "output_type": "stream",
     "text": [
      "pandas version is: 1.1.5\n",
      "numpy version is: 1.19.5\n",
      "matplotlib version is: 3.2.2\n",
      "sklearn version is: 0.22.2.post1\n",
      "xgboost version is: 0.90\n"
     ]
    }
   ],
   "source": [
    "# Print out packages versions\n",
    "print(f'pandas version is: {pd.__version__}')\n",
    "print(f'numpy version is: {np.__version__}')\n",
    "print(f'matplotlib version is: {matplotlib.__version__}')\n",
    "print(f'sklearn version is: {sklearn.__version__}')\n",
    "print(f'xgboost version is: {xgb.__version__}')"
   ]
  },
  {
   "cell_type": "markdown",
   "metadata": {
    "id": "HE9_Q2bsu1hi"
   },
   "source": [
    "# Helper functions"
   ]
  },
  {
   "cell_type": "code",
   "execution_count": 3,
   "metadata": {
    "executionInfo": {
     "elapsed": 604,
     "status": "ok",
     "timestamp": 1611833936876,
     "user": {
      "displayName": "Rafael Pinto",
      "photoUrl": "",
      "userId": "01213912175113627450"
     },
     "user_tz": 360
    },
    "id": "m1x1Oo6ju1hi"
   },
   "outputs": [],
   "source": [
    "def replace_nan_inf(df, value=None):\n",
    "    \"\"\"\n",
    "    Replace missing and infinity values.\n",
    "\n",
    "    Parameters\n",
    "    ----------\n",
    "    df : pandas.DataFrame\n",
    "        Dataframe with values to be replaced.\n",
    "\n",
    "    value : int, float\n",
    "        Value to replace any missing or numpy.inf values. Defaults to numpy.nan\n",
    "    Returns\n",
    "    -------\n",
    "    pandas.DataFrame\n",
    "        Dataframe with missing and infinity values replaced with -999.\n",
    "\n",
    "    \"\"\"\n",
    "    if value is None:\n",
    "        value = np.nan\n",
    "    return df.replace(to_replace=[np.nan, np.inf, -np.inf],\n",
    "                      value=value)\n",
    "\n",
    "\n",
    "def shift_concat(df, periods=1, fill_value=None):\n",
    "    \"\"\"\n",
    "    Build dataframe of shifted index.\n",
    "\n",
    "    Parameters\n",
    "    ----------\n",
    "    df : pandas.DataFrame\n",
    "        Dataframe with columns to be shifted.\n",
    "    periods : int\n",
    "        Number of periods to shift. Should be positive.\n",
    "    fill_value : object, optional\n",
    "        The scalar value to use for newly introduced missing values. Defaults\n",
    "        to numpy.nan.\n",
    "\n",
    "    Returns\n",
    "    -------\n",
    "    pandas.DataFrame\n",
    "        Shifted dataframes concatenated along columns axis.\n",
    "\n",
    "    Notes\n",
    "    -------\n",
    "    Based on Paulo Bestagini's augment_features_window from SEG 2016 ML\n",
    "    competition.\n",
    "    https://github.com/seg/2016-ml-contest/blob/master/ispl/facies_classification_try01.ipynb\n",
    "\n",
    "    Example\n",
    "    -------\n",
    "    Shift df by one period and concatenate.\n",
    "\n",
    "    >>> df = pd.DataFrame({'gr': [1.1, 2.1], 'den': [2.1, 2.2]})\n",
    "    >>> shift_concat(df)\n",
    "        gr_shifted_1  den_shifted_1  gr   den  gr_shifted_-1   den_shifted_-1\n",
    "    0      NaN            NaN        1.1  2.1      2.1             2.2\n",
    "    1      1.1            2.1        2.1  2.2      NaN             NaN\n",
    "\n",
    "    \"\"\"\n",
    "    if fill_value is None:\n",
    "        fill_value = np.nan\n",
    "\n",
    "    dfs = []\n",
    "    for period in range(periods, -1*periods - 1, -1):\n",
    "\n",
    "        if period == 0:\n",
    "            dfs.append(df)\n",
    "            continue\n",
    "\n",
    "        df_shifted = df.shift(period, fill_value=fill_value)\n",
    "\n",
    "        df_shifted.columns = [f'{col}_shifted_{str(period)}'\n",
    "                              for col in df_shifted.columns]\n",
    "\n",
    "        dfs.append(df_shifted)\n",
    "\n",
    "    return pd.concat(dfs, axis=1)\n",
    "\n",
    "\n",
    "def gradient(df, depth_col):\n",
    "    \"\"\"\n",
    "    Calculate the gradient for all features along the provided `depth_col`\n",
    "    column.\n",
    "\n",
    "    Parameters\n",
    "    ----------\n",
    "    df : pandas.DataFrame\n",
    "        Dataframe with columns to be used in the gradient calculation.\n",
    "    depth_col : str\n",
    "        Dataframe column name to be used as depth reference.\n",
    "\n",
    "    Returns\n",
    "    -------\n",
    "    pandas.DataFrame\n",
    "        Gradient of `df` along `depth_col` column. The depth column is not in\n",
    "        the output dataframe.\n",
    "\n",
    "    Notes\n",
    "    -------\n",
    "    Based on Paulo Bestagini's augment_features_window from SEG 2016 ML\n",
    "    competition.\n",
    "    https://github.com/seg/2016-ml-contest/blob/master/ispl/facies_classification_try01.ipynb\n",
    "\n",
    "    Example\n",
    "    -------\n",
    "    Calculate gradient of columns along `md`.\n",
    "\n",
    "    >>> df = pd.DataFrame({'gr': [100.1, 100.2, 100.3],\n",
    "                          'den': [2.1, 2.2, 2.3],\n",
    "                          'md': [500, 500.5, 501]})\n",
    "    >>> gradient(df, 'md')\n",
    "        gr  den\n",
    "    0  NaN  NaN\n",
    "    1  0.2  0.2\n",
    "    2  0.2  0.2\n",
    "\n",
    "    \"\"\"\n",
    "    depth_diff = df[depth_col].diff()\n",
    "\n",
    "    denom_zeros = np.isclose(depth_diff, 0)\n",
    "    depth_diff[denom_zeros] = 0.001\n",
    "\n",
    "    df_diff = df.drop(depth_col, axis=1)\n",
    "    df_diff = df_diff.diff()\n",
    "\n",
    "    # Add suffix to column names\n",
    "    df_diff.columns = [f'{col}_gradient' for col in df_diff.columns]\n",
    "\n",
    "    return df_diff.divide(depth_diff, axis=0)\n",
    "\n",
    "\n",
    "def shift_concat_gradient(df, depth_col, well_col, cat_cols, periods=1, fill_value=None):\n",
    "    \"\"\"\n",
    "    Augment features using `shif_concat` and `gradient`.\n",
    "\n",
    "    Parameters\n",
    "    ----------\n",
    "    df : pandas.DataFrame\n",
    "        Dataframe with columns to be augmented.\n",
    "    depth_col : str\n",
    "        Dataframe column name to be used as depth reference.\n",
    "    well_col : str\n",
    "        Dataframe column name to be used as well reference.\n",
    "    cat_cols: list of str\n",
    "        Encoded column names. The gradient calculation is not applied to these\n",
    "        columns.\n",
    "    periods : int\n",
    "        Number of periods to shift. Should be positive.\n",
    "    fill_value : object, optional\n",
    "        The scalar value to use for newly introduced missing values. Defaults\n",
    "        to numpy.nan.\n",
    "\n",
    "    Returns\n",
    "    -------\n",
    "    pandas.DataFrame\n",
    "        Augmented dataframe.\n",
    "\n",
    "    Notes\n",
    "    -------\n",
    "    Based on Paulo Bestagini's augment_features_window from SEG 2016 ML\n",
    "    competition.\n",
    "    https://github.com/seg/2016-ml-contest/blob/master/ispl/facies_classification_try01.ipynb\n",
    "\n",
    "    Example\n",
    "    -------\n",
    "    Augment features of `df` by shifting and taking the gradient.\n",
    "\n",
    "    >>> df = pd.DataFrame({'gr': [100.1, 100.2, 100.3, 20.1, 20.2, 20.3],\n",
    "                          'den': [2.1, 2.2, 2.3, 1.7, 1.8, 1.9],\n",
    "                           'md': [500, 500.5, 501, 1000, 1000.05, 1001],\n",
    "                         'well': [1, 1, 1, 2, 2, 2]})\n",
    "    >>> shift_concat_gradient(df, 'md', 'well', periods=1, fill_value=None)\n",
    "        gr_shifted_1  den_shifted_1     gr    den  ...  well   md    gr_gradient  den_gradient\n",
    "    0         NaN          NaN         100.1  2.1  ...   1   500.00        NaN           NaN\n",
    "    1       100.1          2.1         100.2  2.2  ...   1   500.50   0.200000      0.200000\n",
    "    2       100.2          2.2         100.3  2.3  ...   1   501.00   0.200000      0.200000\n",
    "    3         NaN          NaN          20.1  1.7  ...   2  1000.00        NaN           NaN\n",
    "    4        20.1          1.7          20.2  1.8  ...   2  1000.05   2.000000      2.000000\n",
    "    5        20.2          1.8          20.3  1.9  ...   2  1001.00   0.105263      0.105263\n",
    "\n",
    "    \"\"\"\n",
    "    # TODO 'Consider filling missing values created here with DataFrame.fillna'\n",
    "\n",
    "    # Columns to apply gradient operation\n",
    "    cat_cols.append(well_col)\n",
    "    gradient_cols = [col for col in df.columns if col not in cat_cols]\n",
    "\n",
    "    # Don't shift depth\n",
    "    depth = df.loc[:, depth_col]\n",
    "\n",
    "    grouped = df.groupby(well_col, sort=False)\n",
    "\n",
    "    df_aug_groups = []\n",
    "    for name, group in grouped:\n",
    "        shift_cols_df = group.drop([well_col, depth_col], axis=1)\n",
    "\n",
    "        group_shift = shift_concat(shift_cols_df,\n",
    "                                   periods=periods,\n",
    "                                   fill_value=fill_value)\n",
    "\n",
    "        # Add back the well name and depth\n",
    "        group_shift[well_col] = name\n",
    "        group_shift[depth_col] = depth\n",
    "\n",
    "        group_gradient = group.loc[:, gradient_cols]\n",
    "\n",
    "        group_gradient = gradient(group_gradient, depth_col)\n",
    "\n",
    "        group_aug = pd.concat([group_shift, group_gradient], axis=1)\n",
    "\n",
    "        df_aug_groups.append(group_aug)\n",
    "\n",
    "    return pd.concat(df_aug_groups)\n",
    "\n",
    "\n",
    "def score(y_true, y_pred, scoring_matrix):\n",
    "    \"\"\"\n",
    "    Competition scoring function.\n",
    "\n",
    "    Parameters\n",
    "    ----------\n",
    "    y_true : pandas.Series\n",
    "        Ground truth (correct) target values.\n",
    "    y_pred : pandas.Series\n",
    "        Estimated targets as returned by a classifier.\n",
    "    scoring_matrix : numpy.array\n",
    "        Competition scoring matrix.\n",
    "\n",
    "    Returns\n",
    "    ----------\n",
    "    float\n",
    "        2020 FORCE ML lithology competition custome score.\n",
    "\n",
    "    \"\"\"\n",
    "    S = 0.0\n",
    "\n",
    "    for true_val, pred_val in zip(y_true, y_pred):\n",
    "        S -= scoring_matrix[true_val, pred_val]\n",
    "\n",
    "    return S/y_true.shape[0]\n",
    "\n",
    "\n",
    "def show_evaluation(y_true, y_pred):\n",
    "    \"\"\"\n",
    "    Print model performance and evaluation.\n",
    "\n",
    "    Parameters\n",
    "    ----------\n",
    "    y_true : pandas.Series\n",
    "        Ground truth (correct) target values.\n",
    "    y_pred: pandas.Series\n",
    "        Estimated targets as returned by a classifier.\n",
    "\n",
    "    \"\"\"\n",
    "    print(f'Competition score: {score(y_true, y_pred)}')\n",
    "    print(f'Accuracy: {accuracy_score(y_true, y_pred)}')\n",
    "    print(f'F1: {f1_score(y_true, y_pred, average=\"weighted\")}')\n",
    "\n",
    "\n",
    "def build_encoding_map(series):\n",
    "    \"\"\"\n",
    "    Build dictionary with the mapping of series unique values to encoded\n",
    "    values.\n",
    "\n",
    "    Parameters\n",
    "    ----------\n",
    "    series : pandas.Series\n",
    "        Series with categories to be encoded.\n",
    "\n",
    "    Returns\n",
    "    -------\n",
    "    mapping : dict\n",
    "        Dictionary mapping unique categories in series to encoded values.\n",
    "\n",
    "    See Also\n",
    "    --------\n",
    "    label_encode_columns : Label encode a dataframe categorical columns.\n",
    "\n",
    "    \"\"\"\n",
    "    unique_values = series.unique()\n",
    "\n",
    "    mapping = {original: encoded\n",
    "               for encoded, original in enumerate(unique_values)\n",
    "               if original is not np.nan}\n",
    "\n",
    "    return mapping\n",
    "\n",
    "\n",
    "def label_encode_columns(df, cat_cols, mappings):\n",
    "    \"\"\"\n",
    "    Label encode a dataframe categorical columns.\n",
    "\n",
    "    Parameters\n",
    "    ----------\n",
    "    df : pandas.DataFrame\n",
    "        Dataframe with columns to be encoded.\n",
    "    cat_cols: list of str\n",
    "        Column names to be encoded.\n",
    "    mappings: dict of dict\n",
    "        Dictionary containing a key-value mapping for each column to be\n",
    "        encoded.\n",
    "\n",
    "    Returns\n",
    "    -------\n",
    "    df : pandas.DataFrame\n",
    "        Dataframe with the encoded columns added and the `cat_cols` removed.\n",
    "    encoded_col_names: list of str\n",
    "        Encoded column names.\n",
    "\n",
    "    See Also\n",
    "    --------\n",
    "    build_encoding_map : Build a series encoding mapping.\n",
    "\n",
    "    \"\"\"\n",
    "    df = df.copy()\n",
    "\n",
    "    encoded_col_names = []\n",
    "    for col in cat_cols:\n",
    "        new_col = f'{col}_encoded'\n",
    "        encoded_col_names.append(new_col)\n",
    "\n",
    "        df[new_col] = df[col].map(mappings[col])\n",
    "\n",
    "        df.drop(col, axis=1, inplace=True)\n",
    "\n",
    "    return df, encoded_col_names"
   ]
  },
  {
   "cell_type": "markdown",
   "metadata": {
    "id": "b5S-CRBbGc02"
   },
   "source": [
    "# Target maps"
   ]
  },
  {
   "cell_type": "code",
   "execution_count": 4,
   "metadata": {
    "executionInfo": {
     "elapsed": 383,
     "status": "ok",
     "timestamp": 1611833937922,
     "user": {
      "displayName": "Rafael Pinto",
      "photoUrl": "",
      "userId": "01213912175113627450"
     },
     "user_tz": 360
    },
    "id": "pKPoKfl6Geev"
   },
   "outputs": [],
   "source": [
    "KEYS_TO_ORDINAL = {\n",
    "    30000: 0,\n",
    "    65030: 1,\n",
    "    65000: 2,\n",
    "    80000: 3,\n",
    "    74000: 4,\n",
    "    70000: 5,\n",
    "    70032: 6,\n",
    "    88000: 7,\n",
    "    86000: 8,\n",
    "    99000: 9,\n",
    "    90000: 10,\n",
    "    93000: 11\n",
    "    }\n",
    "\n",
    "\n",
    "KEYS_TO_LITHOLOGY = {30000: 'Sandstone',\n",
    "                     65030: 'Sandstone/Shale',\n",
    "                     65000: 'Shale',\n",
    "                     80000: 'Marl',\n",
    "                     74000: 'Dolomite',\n",
    "                     70000: 'Limestone',\n",
    "                     70032: 'Chalk',\n",
    "                     88000: 'Halite',\n",
    "                     86000: 'Anhydrite',\n",
    "                     99000: 'Tuff',\n",
    "                     90000: 'Coal',\n",
    "                     93000: 'Basement'}\n",
    "\n",
    "ORDINAL_TO_KEYS = {value: key for key, value in  KEYS_TO_ORDINAL.items()}\n",
    "\n",
    "ORDINAL_TO_LITHOLOGY = {}\n",
    "for ordinal_key, key in ORDINAL_TO_KEYS.items():\n",
    "    ORDINAL_TO_LITHOLOGY[ordinal_key] = KEYS_TO_LITHOLOGY[key]"
   ]
  },
  {
   "cell_type": "markdown",
   "metadata": {
    "id": "V-_H1SeJu1ho"
   },
   "source": [
    "# Import data\n",
    "\n",
    "First add a shortcut from the [google drive competition data location](https://drive.google.com/drive/folders/1GIkjq4fwgwbiqVQxYwoJnOJWVobZ91pL) to your own google drive. We will mount this drive, and access the data from it.\n",
    "\n",
    "We will save the results to a diffent folder, where we have write access."
   ]
  },
  {
   "cell_type": "code",
   "execution_count": 5,
   "metadata": {
    "colab": {
     "base_uri": "https://localhost:8080/"
    },
    "executionInfo": {
     "elapsed": 19536,
     "status": "ok",
     "timestamp": 1611833958582,
     "user": {
      "displayName": "Rafael Pinto",
      "photoUrl": "",
      "userId": "01213912175113627450"
     },
     "user_tz": 360
    },
    "id": "fEYM1Xz2u1ht",
    "outputId": "e88d1120-e608-4477-ffc7-971548e95277"
   },
   "outputs": [
    {
     "name": "stdout",
     "output_type": "stream",
     "text": [
      "Mounted at /content/drive\n"
     ]
    }
   ],
   "source": [
    "from google.colab import drive\n",
    "drive.mount('/content/drive', force_remount=True)"
   ]
  },
  {
   "cell_type": "code",
   "execution_count": 6,
   "metadata": {
    "executionInfo": {
     "elapsed": 301,
     "status": "ok",
     "timestamp": 1611833961836,
     "user": {
      "displayName": "Rafael Pinto",
      "photoUrl": "",
      "userId": "01213912175113627450"
     },
     "user_tz": 360
    },
    "id": "RpIq9zscu1hu"
   },
   "outputs": [],
   "source": [
    "#should be edited to the present working directory of the user\n",
    "data_source = '/content/drive/My Drive/FORCE 2020 lithofacies prediction from well logs competition/'"
   ]
  },
  {
   "cell_type": "code",
   "execution_count": 7,
   "metadata": {
    "executionInfo": {
     "elapsed": 7617,
     "status": "ok",
     "timestamp": 1611833969990,
     "user": {
      "displayName": "Rafael Pinto",
      "photoUrl": "",
      "userId": "01213912175113627450"
     },
     "user_tz": 360
    },
    "id": "7BG8lQNYu1hu"
   },
   "outputs": [],
   "source": [
    "penalty_matrix = np.load(data_source + 'penalty_matrix.npy')\n",
    "\n",
    "train = pd.read_csv(data_source + 'CSV_train.csv', sep=';')\n",
    "\n",
    "test = pd.read_csv(data_source + 'CSV_test.csv', sep=';')"
   ]
  },
  {
   "cell_type": "code",
   "execution_count": 8,
   "metadata": {
    "executionInfo": {
     "elapsed": 6880,
     "status": "ok",
     "timestamp": 1611833969993,
     "user": {
      "displayName": "Rafael Pinto",
      "photoUrl": "",
      "userId": "01213912175113627450"
     },
     "user_tz": 360
    },
    "id": "dt2Oge4Fu1hv"
   },
   "outputs": [],
   "source": [
    "# Destination folder\n",
    "out_data_dir = Path('/content/drive/My Drive/lith_pred/')"
   ]
  },
  {
   "cell_type": "markdown",
   "metadata": {
    "id": "kJyhGrd8PDrK"
   },
   "source": [
    "# Train model"
   ]
  },
  {
   "cell_type": "code",
   "execution_count": 9,
   "metadata": {
    "executionInfo": {
     "elapsed": 297,
     "status": "ok",
     "timestamp": 1611833971811,
     "user": {
      "displayName": "Rafael Pinto",
      "photoUrl": "",
      "userId": "01213912175113627450"
     },
     "user_tz": 360
    },
    "id": "AmSp3xSsu1hv"
   },
   "outputs": [],
   "source": [
    "class Model():\n",
    "    '''\n",
    "    class to lithology prediction\n",
    "    '''\n",
    "    def preprocess(self, df, cat_columns, mappings):\n",
    "        # Grab model features\n",
    "        keep_cols = ['WELL', 'DEPTH_MD', 'X_LOC', 'Y_LOC', 'Z_LOC', 'GROUP',\n",
    "                     'FORMATION', 'CALI', 'RSHA', 'RMED', 'RDEP', 'RHOB', 'GR',\n",
    "                     'NPHI', 'PEF', 'DTC', 'SP', 'BS', 'DRHO']\n",
    "\n",
    "        df = df.loc[:, keep_cols]\n",
    "\n",
    "        # Label encode\n",
    "        df, encoded_col_names = label_encode_columns(df, cat_columns, mappings)\n",
    "        \n",
    "        # Augment using Bestagini's functions\n",
    "        df_preprocesed = shift_concat_gradient(df,\n",
    "                                               'DEPTH_MD',\n",
    "                                               'WELL',\n",
    "                                               encoded_col_names,\n",
    "                                               periods=1,\n",
    "                                               fill_value=None)\n",
    "       \n",
    "        return df_preprocesed\n",
    "\n",
    "    def fit(self, X, y):\n",
    "        split = 10\n",
    "        skf = StratifiedKFold(n_splits=split, shuffle=True)\n",
    "\n",
    "        model = XGBClassifier(n_estimators=100, max_depth=10, booster='gbtree',\n",
    "                              objective='multi:softprob', learning_rate=0.1, random_state=0,\n",
    "                              subsample=0.9, colsample_bytree=0.9, tree_method='gpu_hist',\n",
    "                              eval_metric='mlogloss', verbose=2020, reg_lambda=1500)\n",
    "        \n",
    "        models = []\n",
    "        for fold_number, indices in enumerate(skf.split(X, y)):\n",
    "            print(f'Fitting fold: {fold_number}')\n",
    "            \n",
    "            train_index, test_index = indices\n",
    "\n",
    "            X_train, X_test = X.iloc[train_index], X.iloc[test_index]\n",
    "            y_train, y_test = y.iloc[train_index], y.iloc[test_index]\n",
    "\n",
    "            model.fit(X_train,\n",
    "                      y_train,\n",
    "                      early_stopping_rounds=100,\n",
    "                      eval_set=[(X_test, y_test)],\n",
    "                      verbose=100)\n",
    "\n",
    "            models.append(model)\n",
    "\n",
    "        return models\n",
    "\n",
    "    def fit_predict(self, X_train, y_train, test_wells, save_filename):\n",
    "        # Fit\n",
    "        models = self.fit(X_train, y_train)\n",
    "\n",
    "        # Get lithologies probabilities for each model\n",
    "        models_proba = []\n",
    "        for model_num, model in enumerate(models):\n",
    "            model_proba = model.predict_proba(X_test)\n",
    "            model_classes = [ORDINAL_TO_LITHOLOGY[lith] for lith in model.classes_]\n",
    "\n",
    "            model_proba_df = pd.DataFrame(model_proba, columns=model_classes)\n",
    "\n",
    "            model_proba_df['MODEL'] = model_num\n",
    "\n",
    "            model_proba_df['WELL'] = test_wells\n",
    "            model_proba_df['DEPTH_MD'] = X_test['DEPTH_MD']\n",
    "\n",
    "            models_proba.append(model_proba_df)\n",
    "\n",
    "        models_proba = pd.concat(models_proba, ignore_index=True)\n",
    "\n",
    "        # Create save directory if it doesn't exists\n",
    "        if not save_filename.parent.is_dir():\n",
    "            save_filename.parent.mkdir(parents=True)\n",
    "\n",
    "        # Save models_proba to CSV\n",
    "        models_proba.to_csv(save_filename, index=False)\n",
    "\n",
    "        return models, models_proba"
   ]
  },
  {
   "cell_type": "markdown",
   "metadata": {
    "id": "B0mFUwb2xlHl"
   },
   "source": [
    "# Prepare train data"
   ]
  },
  {
   "cell_type": "code",
   "execution_count": 10,
   "metadata": {
    "executionInfo": {
     "elapsed": 440,
     "status": "ok",
     "timestamp": 1611833973589,
     "user": {
      "displayName": "Rafael Pinto",
      "photoUrl": "",
      "userId": "01213912175113627450"
     },
     "user_tz": 360
    },
    "id": "HwneqeF3z1jO"
   },
   "outputs": [],
   "source": [
    "y = train['FORCE_2020_LITHOFACIES_LITHOLOGY']\n",
    "X = train.drop('FORCE_2020_LITHOFACIES_LITHOLOGY', axis=1)"
   ]
  },
  {
   "cell_type": "code",
   "execution_count": 11,
   "metadata": {
    "executionInfo": {
     "elapsed": 399,
     "status": "ok",
     "timestamp": 1611833974581,
     "user": {
      "displayName": "Rafael Pinto",
      "photoUrl": "",
      "userId": "01213912175113627450"
     },
     "user_tz": 360
    },
    "id": "zJCHVSlJA-co"
   },
   "outputs": [],
   "source": [
    "# Map lithology codes to scoring matrix index\n",
    "y_train = y.map(KEYS_TO_ORDINAL)"
   ]
  },
  {
   "cell_type": "code",
   "execution_count": 14,
   "metadata": {
    "executionInfo": {
     "elapsed": 317,
     "status": "ok",
     "timestamp": 1611833984855,
     "user": {
      "displayName": "Rafael Pinto",
      "photoUrl": "",
      "userId": "01213912175113627450"
     },
     "user_tz": 360
    },
    "id": "En8Qv66eu1hx"
   },
   "outputs": [],
   "source": [
    "model = Model()"
   ]
  },
  {
   "cell_type": "code",
   "execution_count": 15,
   "metadata": {
    "colab": {
     "base_uri": "https://localhost:8080/"
    },
    "executionInfo": {
     "elapsed": 273,
     "status": "ok",
     "timestamp": 1611833987307,
     "user": {
      "displayName": "Rafael Pinto",
      "photoUrl": "",
      "userId": "01213912175113627450"
     },
     "user_tz": 360
    },
    "id": "dNO2kMhXZ0AS",
    "outputId": "651932ae-8dd5-4795-9fa0-168008d1f85a"
   },
   "outputs": [
    {
     "data": {
      "text/plain": [
       "Index(['WELL', 'DEPTH_MD', 'X_LOC', 'Y_LOC', 'Z_LOC', 'GROUP', 'FORMATION',\n",
       "       'CALI', 'RSHA', 'RMED', 'RDEP', 'RHOB', 'GR', 'SGR', 'NPHI', 'PEF',\n",
       "       'DTC', 'SP', 'BS', 'ROP', 'DTS', 'DCAL', 'DRHO', 'MUDWEIGHT', 'RMIC',\n",
       "       'ROPA', 'RXO', 'FORCE_2020_LITHOFACIES_CONFIDENCE'],\n",
       "      dtype='object')"
      ]
     },
     "execution_count": 15,
     "metadata": {
      "tags": []
     },
     "output_type": "execute_result"
    }
   ],
   "source": [
    "X.columns"
   ]
  },
  {
   "cell_type": "code",
   "execution_count": 16,
   "metadata": {
    "executionInfo": {
     "elapsed": 3444,
     "status": "ok",
     "timestamp": 1611833991372,
     "user": {
      "displayName": "Rafael Pinto",
      "photoUrl": "",
      "userId": "01213912175113627450"
     },
     "user_tz": 360
    },
    "id": "5mELBxXDu1hx"
   },
   "outputs": [],
   "source": [
    "cat_columns = ['GROUP', 'FORMATION']\n",
    "\n",
    "train_mappings = {col: build_encoding_map(X[col]) for col in cat_columns}\n",
    "\n",
    "X_train = model.preprocess(X, cat_columns, train_mappings)"
   ]
  },
  {
   "cell_type": "code",
   "execution_count": 17,
   "metadata": {
    "executionInfo": {
     "elapsed": 877,
     "status": "ok",
     "timestamp": 1611833993449,
     "user": {
      "displayName": "Rafael Pinto",
      "photoUrl": "",
      "userId": "01213912175113627450"
     },
     "user_tz": 360
    },
    "id": "tJfgAoxISQzC"
   },
   "outputs": [],
   "source": [
    "X_train.drop('WELL', axis=1, inplace=True)"
   ]
  },
  {
   "cell_type": "code",
   "execution_count": 18,
   "metadata": {
    "colab": {
     "base_uri": "https://localhost:8080/"
    },
    "executionInfo": {
     "elapsed": 519,
     "status": "ok",
     "timestamp": 1611833995024,
     "user": {
      "displayName": "Rafael Pinto",
      "photoUrl": "",
      "userId": "01213912175113627450"
     },
     "user_tz": 360
    },
    "id": "19DUYb8-fpb6",
    "outputId": "a0987222-eddc-467e-9503-296d81b8de9c"
   },
   "outputs": [
    {
     "data": {
      "text/plain": [
       "Index(['X_LOC_shifted_1', 'Y_LOC_shifted_1', 'Z_LOC_shifted_1',\n",
       "       'CALI_shifted_1', 'RSHA_shifted_1', 'RMED_shifted_1', 'RDEP_shifted_1',\n",
       "       'RHOB_shifted_1', 'GR_shifted_1', 'NPHI_shifted_1', 'PEF_shifted_1',\n",
       "       'DTC_shifted_1', 'SP_shifted_1', 'BS_shifted_1', 'DRHO_shifted_1',\n",
       "       'GROUP_encoded_shifted_1', 'FORMATION_encoded_shifted_1', 'X_LOC',\n",
       "       'Y_LOC', 'Z_LOC', 'CALI', 'RSHA', 'RMED', 'RDEP', 'RHOB', 'GR', 'NPHI',\n",
       "       'PEF', 'DTC', 'SP', 'BS', 'DRHO', 'GROUP_encoded', 'FORMATION_encoded',\n",
       "       'X_LOC_shifted_-1', 'Y_LOC_shifted_-1', 'Z_LOC_shifted_-1',\n",
       "       'CALI_shifted_-1', 'RSHA_shifted_-1', 'RMED_shifted_-1',\n",
       "       'RDEP_shifted_-1', 'RHOB_shifted_-1', 'GR_shifted_-1',\n",
       "       'NPHI_shifted_-1', 'PEF_shifted_-1', 'DTC_shifted_-1', 'SP_shifted_-1',\n",
       "       'BS_shifted_-1', 'DRHO_shifted_-1', 'GROUP_encoded_shifted_-1',\n",
       "       'FORMATION_encoded_shifted_-1', 'DEPTH_MD', 'X_LOC_gradient',\n",
       "       'Y_LOC_gradient', 'Z_LOC_gradient', 'CALI_gradient', 'RSHA_gradient',\n",
       "       'RMED_gradient', 'RDEP_gradient', 'RHOB_gradient', 'GR_gradient',\n",
       "       'NPHI_gradient', 'PEF_gradient', 'DTC_gradient', 'SP_gradient',\n",
       "       'BS_gradient', 'DRHO_gradient'],\n",
       "      dtype='object')"
      ]
     },
     "execution_count": 18,
     "metadata": {
      "tags": []
     },
     "output_type": "execute_result"
    }
   ],
   "source": [
    "X_train.columns"
   ]
  },
  {
   "cell_type": "markdown",
   "metadata": {
    "id": "zXA4OPsvxsFF"
   },
   "source": [
    "# Prepare test data"
   ]
  },
  {
   "cell_type": "code",
   "execution_count": 19,
   "metadata": {
    "colab": {
     "base_uri": "https://localhost:8080/"
    },
    "executionInfo": {
     "elapsed": 525,
     "status": "ok",
     "timestamp": 1611833999762,
     "user": {
      "displayName": "Rafael Pinto",
      "photoUrl": "",
      "userId": "01213912175113627450"
     },
     "user_tz": 360
    },
    "id": "xjs7KifMbJC1",
    "outputId": "f0427659-f962-43d6-bc34-16bce95e80fd"
   },
   "outputs": [
    {
     "data": {
      "text/plain": [
       "(136786, 27)"
      ]
     },
     "execution_count": 19,
     "metadata": {
      "tags": []
     },
     "output_type": "execute_result"
    }
   ],
   "source": [
    "test.shape"
   ]
  },
  {
   "cell_type": "code",
   "execution_count": 20,
   "metadata": {
    "executionInfo": {
     "elapsed": 762,
     "status": "ok",
     "timestamp": 1611834001686,
     "user": {
      "displayName": "Rafael Pinto",
      "photoUrl": "",
      "userId": "01213912175113627450"
     },
     "user_tz": 360
    },
    "id": "S6h_L5weZOtA"
   },
   "outputs": [],
   "source": [
    "X_test = model.preprocess(test, cat_columns, train_mappings)\n",
    "X_test.drop('WELL', axis=1, inplace=True)"
   ]
  },
  {
   "cell_type": "code",
   "execution_count": 21,
   "metadata": {
    "colab": {
     "base_uri": "https://localhost:8080/"
    },
    "executionInfo": {
     "elapsed": 348,
     "status": "ok",
     "timestamp": 1611834002701,
     "user": {
      "displayName": "Rafael Pinto",
      "photoUrl": "",
      "userId": "01213912175113627450"
     },
     "user_tz": 360
    },
    "id": "BbvVEyfMb818",
    "outputId": "6990eac9-585a-4db6-d202-a46e3c31547c"
   },
   "outputs": [
    {
     "data": {
      "text/plain": [
       "(136786, 67)"
      ]
     },
     "execution_count": 21,
     "metadata": {
      "tags": []
     },
     "output_type": "execute_result"
    }
   ],
   "source": [
    "X_test.shape"
   ]
  },
  {
   "cell_type": "code",
   "execution_count": 22,
   "metadata": {
    "colab": {
     "base_uri": "https://localhost:8080/"
    },
    "executionInfo": {
     "elapsed": 262,
     "status": "ok",
     "timestamp": 1611834003871,
     "user": {
      "displayName": "Rafael Pinto",
      "photoUrl": "",
      "userId": "01213912175113627450"
     },
     "user_tz": 360
    },
    "id": "CDlqXc1oasD3",
    "outputId": "862cf556-3115-4983-9563-ad4ed0f03146"
   },
   "outputs": [
    {
     "data": {
      "text/plain": [
       "Index(['X_LOC_shifted_1', 'Y_LOC_shifted_1', 'Z_LOC_shifted_1',\n",
       "       'CALI_shifted_1', 'RSHA_shifted_1', 'RMED_shifted_1', 'RDEP_shifted_1',\n",
       "       'RHOB_shifted_1', 'GR_shifted_1', 'NPHI_shifted_1', 'PEF_shifted_1',\n",
       "       'DTC_shifted_1', 'SP_shifted_1', 'BS_shifted_1', 'DRHO_shifted_1',\n",
       "       'GROUP_encoded_shifted_1', 'FORMATION_encoded_shifted_1', 'X_LOC',\n",
       "       'Y_LOC', 'Z_LOC', 'CALI', 'RSHA', 'RMED', 'RDEP', 'RHOB', 'GR', 'NPHI',\n",
       "       'PEF', 'DTC', 'SP', 'BS', 'DRHO', 'GROUP_encoded', 'FORMATION_encoded',\n",
       "       'X_LOC_shifted_-1', 'Y_LOC_shifted_-1', 'Z_LOC_shifted_-1',\n",
       "       'CALI_shifted_-1', 'RSHA_shifted_-1', 'RMED_shifted_-1',\n",
       "       'RDEP_shifted_-1', 'RHOB_shifted_-1', 'GR_shifted_-1',\n",
       "       'NPHI_shifted_-1', 'PEF_shifted_-1', 'DTC_shifted_-1', 'SP_shifted_-1',\n",
       "       'BS_shifted_-1', 'DRHO_shifted_-1', 'GROUP_encoded_shifted_-1',\n",
       "       'FORMATION_encoded_shifted_-1', 'DEPTH_MD', 'X_LOC_gradient',\n",
       "       'Y_LOC_gradient', 'Z_LOC_gradient', 'CALI_gradient', 'RSHA_gradient',\n",
       "       'RMED_gradient', 'RDEP_gradient', 'RHOB_gradient', 'GR_gradient',\n",
       "       'NPHI_gradient', 'PEF_gradient', 'DTC_gradient', 'SP_gradient',\n",
       "       'BS_gradient', 'DRHO_gradient'],\n",
       "      dtype='object')"
      ]
     },
     "execution_count": 22,
     "metadata": {
      "tags": []
     },
     "output_type": "execute_result"
    }
   ],
   "source": [
    "X_test.columns"
   ]
  },
  {
   "cell_type": "markdown",
   "metadata": {
    "id": "FqwB9tmySP74"
   },
   "source": [
    "# Fit and predict"
   ]
  },
  {
   "cell_type": "code",
   "execution_count": 23,
   "metadata": {
    "executionInfo": {
     "elapsed": 298,
     "status": "ok",
     "timestamp": 1611834024438,
     "user": {
      "displayName": "Rafael Pinto",
      "photoUrl": "",
      "userId": "01213912175113627450"
     },
     "user_tz": 360
    },
    "id": "xwpDyV1fvpBs"
   },
   "outputs": [],
   "source": [
    "save_filename = out_data_dir / 'model_proba/models_proba_with_nans.csv'"
   ]
  },
  {
   "cell_type": "code",
   "execution_count": 24,
   "metadata": {
    "executionInfo": {
     "elapsed": 421,
     "status": "ok",
     "timestamp": 1611834025753,
     "user": {
      "displayName": "Rafael Pinto",
      "photoUrl": "",
      "userId": "01213912175113627450"
     },
     "user_tz": 360
    },
    "id": "90mSTaF2qVo4"
   },
   "outputs": [],
   "source": [
    "test_wells = test['WELL']"
   ]
  },
  {
   "cell_type": "code",
   "execution_count": 25,
   "metadata": {
    "colab": {
     "base_uri": "https://localhost:8080/"
    },
    "executionInfo": {
     "elapsed": 696983,
     "status": "ok",
     "timestamp": 1611834723847,
     "user": {
      "displayName": "Rafael Pinto",
      "photoUrl": "",
      "userId": "01213912175113627450"
     },
     "user_tz": 360
    },
    "id": "2fvmd_GqwVVk",
    "outputId": "eeb36030-9a39-4dfa-b4a1-86e12f9f4636"
   },
   "outputs": [
    {
     "name": "stdout",
     "output_type": "stream",
     "text": [
      "Fitting fold: 0\n",
      "[0]\tvalidation_0-mlogloss:2.15894\n",
      "Will train until validation_0-mlogloss hasn't improved in 100 rounds.\n",
      "[99]\tvalidation_0-mlogloss:0.318488\n",
      "Fitting fold: 1\n",
      "[0]\tvalidation_0-mlogloss:2.1584\n",
      "Will train until validation_0-mlogloss hasn't improved in 100 rounds.\n",
      "[99]\tvalidation_0-mlogloss:0.316807\n",
      "Fitting fold: 2\n",
      "[0]\tvalidation_0-mlogloss:2.15862\n",
      "Will train until validation_0-mlogloss hasn't improved in 100 rounds.\n",
      "[99]\tvalidation_0-mlogloss:0.316341\n",
      "Fitting fold: 3\n",
      "[0]\tvalidation_0-mlogloss:2.15717\n",
      "Will train until validation_0-mlogloss hasn't improved in 100 rounds.\n",
      "[99]\tvalidation_0-mlogloss:0.314089\n",
      "Fitting fold: 4\n",
      "[0]\tvalidation_0-mlogloss:2.15754\n",
      "Will train until validation_0-mlogloss hasn't improved in 100 rounds.\n",
      "[99]\tvalidation_0-mlogloss:0.318295\n",
      "Fitting fold: 5\n",
      "[0]\tvalidation_0-mlogloss:2.15936\n",
      "Will train until validation_0-mlogloss hasn't improved in 100 rounds.\n",
      "[99]\tvalidation_0-mlogloss:0.315257\n",
      "Fitting fold: 6\n",
      "[0]\tvalidation_0-mlogloss:2.15854\n",
      "Will train until validation_0-mlogloss hasn't improved in 100 rounds.\n",
      "[99]\tvalidation_0-mlogloss:0.318951\n",
      "Fitting fold: 7\n",
      "[0]\tvalidation_0-mlogloss:2.15848\n",
      "Will train until validation_0-mlogloss hasn't improved in 100 rounds.\n",
      "[99]\tvalidation_0-mlogloss:0.316225\n",
      "Fitting fold: 8\n",
      "[0]\tvalidation_0-mlogloss:2.15836\n",
      "Will train until validation_0-mlogloss hasn't improved in 100 rounds.\n",
      "[99]\tvalidation_0-mlogloss:0.317507\n",
      "Fitting fold: 9\n",
      "[0]\tvalidation_0-mlogloss:2.1583\n",
      "Will train until validation_0-mlogloss hasn't improved in 100 rounds.\n",
      "[99]\tvalidation_0-mlogloss:0.315204\n"
     ]
    }
   ],
   "source": [
    "if save_filename.is_file():\n",
    "    models_proba = pd.read_csv(save_filename)\n",
    "\n",
    "else:\n",
    "    models, models_proba = model.fit_predict(X_train, y_train, test_wells, save_filename)"
   ]
  },
  {
   "cell_type": "markdown",
   "metadata": {
    "id": "JYmWcsrk1sBM"
   },
   "source": [
    "# Explore models proba"
   ]
  },
  {
   "cell_type": "code",
   "execution_count": 26,
   "metadata": {
    "colab": {
     "base_uri": "https://localhost:8080/",
     "height": 359
    },
    "executionInfo": {
     "elapsed": 305,
     "status": "ok",
     "timestamp": 1611834798034,
     "user": {
      "displayName": "Rafael Pinto",
      "photoUrl": "",
      "userId": "01213912175113627450"
     },
     "user_tz": 360
    },
    "id": "KfKORh-avywY",
    "outputId": "6b80ef70-9736-4ac5-d61a-4621bb013f5a"
   },
   "outputs": [
    {
     "data": {
      "text/html": [
       "<div>\n",
       "<style scoped>\n",
       "    .dataframe tbody tr th:only-of-type {\n",
       "        vertical-align: middle;\n",
       "    }\n",
       "\n",
       "    .dataframe tbody tr th {\n",
       "        vertical-align: top;\n",
       "    }\n",
       "\n",
       "    .dataframe thead th {\n",
       "        text-align: right;\n",
       "    }\n",
       "</style>\n",
       "<table border=\"1\" class=\"dataframe\">\n",
       "  <thead>\n",
       "    <tr style=\"text-align: right;\">\n",
       "      <th></th>\n",
       "      <th>Sandstone</th>\n",
       "      <th>Sandstone/Shale</th>\n",
       "      <th>Shale</th>\n",
       "      <th>Marl</th>\n",
       "      <th>Dolomite</th>\n",
       "      <th>Limestone</th>\n",
       "      <th>Chalk</th>\n",
       "      <th>Halite</th>\n",
       "      <th>Anhydrite</th>\n",
       "      <th>Tuff</th>\n",
       "      <th>Coal</th>\n",
       "      <th>Basement</th>\n",
       "      <th>MODEL</th>\n",
       "      <th>WELL</th>\n",
       "      <th>DEPTH_MD</th>\n",
       "    </tr>\n",
       "  </thead>\n",
       "  <tbody>\n",
       "    <tr>\n",
       "      <th>799665</th>\n",
       "      <td>0.852525</td>\n",
       "      <td>0.117976</td>\n",
       "      <td>0.016103</td>\n",
       "      <td>0.001887</td>\n",
       "      <td>0.000996</td>\n",
       "      <td>0.005419</td>\n",
       "      <td>0.000705</td>\n",
       "      <td>0.000634</td>\n",
       "      <td>0.000632</td>\n",
       "      <td>0.001180</td>\n",
       "      <td>0.001346</td>\n",
       "      <td>0.000597</td>\n",
       "      <td>5</td>\n",
       "      <td>34/6-1 S</td>\n",
       "      <td>3838.354400</td>\n",
       "    </tr>\n",
       "    <tr>\n",
       "      <th>1197091</th>\n",
       "      <td>0.024389</td>\n",
       "      <td>0.078978</td>\n",
       "      <td>0.818663</td>\n",
       "      <td>0.022608</td>\n",
       "      <td>0.002547</td>\n",
       "      <td>0.039177</td>\n",
       "      <td>0.001788</td>\n",
       "      <td>0.001607</td>\n",
       "      <td>0.001602</td>\n",
       "      <td>0.002991</td>\n",
       "      <td>0.004135</td>\n",
       "      <td>0.001514</td>\n",
       "      <td>8</td>\n",
       "      <td>34/3-3 A</td>\n",
       "      <td>3515.233976</td>\n",
       "    </tr>\n",
       "    <tr>\n",
       "      <th>104372</th>\n",
       "      <td>0.015722</td>\n",
       "      <td>0.132775</td>\n",
       "      <td>0.814746</td>\n",
       "      <td>0.010363</td>\n",
       "      <td>0.001717</td>\n",
       "      <td>0.015485</td>\n",
       "      <td>0.001206</td>\n",
       "      <td>0.001084</td>\n",
       "      <td>0.001081</td>\n",
       "      <td>0.002017</td>\n",
       "      <td>0.002783</td>\n",
       "      <td>0.001021</td>\n",
       "      <td>0</td>\n",
       "      <td>34/3-3 A</td>\n",
       "      <td>3753.721976</td>\n",
       "    </tr>\n",
       "    <tr>\n",
       "      <th>1242164</th>\n",
       "      <td>0.850409</td>\n",
       "      <td>0.036640</td>\n",
       "      <td>0.032637</td>\n",
       "      <td>0.003781</td>\n",
       "      <td>0.002951</td>\n",
       "      <td>0.026516</td>\n",
       "      <td>0.016288</td>\n",
       "      <td>0.001987</td>\n",
       "      <td>0.001567</td>\n",
       "      <td>0.023893</td>\n",
       "      <td>0.001850</td>\n",
       "      <td>0.001480</td>\n",
       "      <td>9</td>\n",
       "      <td>15/9-14</td>\n",
       "      <td>2167.676001</td>\n",
       "    </tr>\n",
       "    <tr>\n",
       "      <th>1206194</th>\n",
       "      <td>0.828596</td>\n",
       "      <td>0.124742</td>\n",
       "      <td>0.019356</td>\n",
       "      <td>0.005887</td>\n",
       "      <td>0.001286</td>\n",
       "      <td>0.012079</td>\n",
       "      <td>0.000907</td>\n",
       "      <td>0.000815</td>\n",
       "      <td>0.000812</td>\n",
       "      <td>0.001516</td>\n",
       "      <td>0.003236</td>\n",
       "      <td>0.000768</td>\n",
       "      <td>8</td>\n",
       "      <td>34/3-3 A</td>\n",
       "      <td>4899.345976</td>\n",
       "    </tr>\n",
       "    <tr>\n",
       "      <th>1080465</th>\n",
       "      <td>0.060044</td>\n",
       "      <td>0.048554</td>\n",
       "      <td>0.783610</td>\n",
       "      <td>0.029491</td>\n",
       "      <td>0.003289</td>\n",
       "      <td>0.061557</td>\n",
       "      <td>0.002310</td>\n",
       "      <td>0.002076</td>\n",
       "      <td>0.002070</td>\n",
       "      <td>0.002599</td>\n",
       "      <td>0.002445</td>\n",
       "      <td>0.001956</td>\n",
       "      <td>7</td>\n",
       "      <td>35/6-2 S</td>\n",
       "      <td>2240.272467</td>\n",
       "    </tr>\n",
       "    <tr>\n",
       "      <th>1183656</th>\n",
       "      <td>0.291583</td>\n",
       "      <td>0.452924</td>\n",
       "      <td>0.210281</td>\n",
       "      <td>0.006311</td>\n",
       "      <td>0.003311</td>\n",
       "      <td>0.010294</td>\n",
       "      <td>0.002456</td>\n",
       "      <td>0.002207</td>\n",
       "      <td>0.002201</td>\n",
       "      <td>0.002763</td>\n",
       "      <td>0.013589</td>\n",
       "      <td>0.002080</td>\n",
       "      <td>8</td>\n",
       "      <td>34/10-16 R</td>\n",
       "      <td>3272.616008</td>\n",
       "    </tr>\n",
       "    <tr>\n",
       "      <th>359772</th>\n",
       "      <td>0.006119</td>\n",
       "      <td>0.022320</td>\n",
       "      <td>0.942449</td>\n",
       "      <td>0.004314</td>\n",
       "      <td>0.001254</td>\n",
       "      <td>0.020442</td>\n",
       "      <td>0.000532</td>\n",
       "      <td>0.000478</td>\n",
       "      <td>0.000477</td>\n",
       "      <td>0.000599</td>\n",
       "      <td>0.000564</td>\n",
       "      <td>0.000451</td>\n",
       "      <td>2</td>\n",
       "      <td>34/10-16 R</td>\n",
       "      <td>2791.080008</td>\n",
       "    </tr>\n",
       "    <tr>\n",
       "      <th>1164928</th>\n",
       "      <td>0.698714</td>\n",
       "      <td>0.094842</td>\n",
       "      <td>0.167798</td>\n",
       "      <td>0.003067</td>\n",
       "      <td>0.004551</td>\n",
       "      <td>0.011519</td>\n",
       "      <td>0.001877</td>\n",
       "      <td>0.001506</td>\n",
       "      <td>0.001502</td>\n",
       "      <td>0.005067</td>\n",
       "      <td>0.008139</td>\n",
       "      <td>0.001419</td>\n",
       "      <td>8</td>\n",
       "      <td>34/10-16 R</td>\n",
       "      <td>425.960008</td>\n",
       "    </tr>\n",
       "    <tr>\n",
       "      <th>922171</th>\n",
       "      <td>0.036476</td>\n",
       "      <td>0.076511</td>\n",
       "      <td>0.809481</td>\n",
       "      <td>0.017681</td>\n",
       "      <td>0.002368</td>\n",
       "      <td>0.044787</td>\n",
       "      <td>0.001663</td>\n",
       "      <td>0.001495</td>\n",
       "      <td>0.001490</td>\n",
       "      <td>0.002781</td>\n",
       "      <td>0.003859</td>\n",
       "      <td>0.001408</td>\n",
       "      <td>6</td>\n",
       "      <td>34/3-3 A</td>\n",
       "      <td>3310.337976</td>\n",
       "    </tr>\n",
       "  </tbody>\n",
       "</table>\n",
       "</div>"
      ],
      "text/plain": [
       "         Sandstone  Sandstone/Shale     Shale  ...  MODEL        WELL     DEPTH_MD\n",
       "799665    0.852525         0.117976  0.016103  ...      5    34/6-1 S  3838.354400\n",
       "1197091   0.024389         0.078978  0.818663  ...      8    34/3-3 A  3515.233976\n",
       "104372    0.015722         0.132775  0.814746  ...      0    34/3-3 A  3753.721976\n",
       "1242164   0.850409         0.036640  0.032637  ...      9     15/9-14  2167.676001\n",
       "1206194   0.828596         0.124742  0.019356  ...      8    34/3-3 A  4899.345976\n",
       "1080465   0.060044         0.048554  0.783610  ...      7    35/6-2 S  2240.272467\n",
       "1183656   0.291583         0.452924  0.210281  ...      8  34/10-16 R  3272.616008\n",
       "359772    0.006119         0.022320  0.942449  ...      2  34/10-16 R  2791.080008\n",
       "1164928   0.698714         0.094842  0.167798  ...      8  34/10-16 R   425.960008\n",
       "922171    0.036476         0.076511  0.809481  ...      6    34/3-3 A  3310.337976\n",
       "\n",
       "[10 rows x 15 columns]"
      ]
     },
     "execution_count": 26,
     "metadata": {
      "tags": []
     },
     "output_type": "execute_result"
    }
   ],
   "source": [
    "models_proba.sample(10)"
   ]
  },
  {
   "cell_type": "code",
   "execution_count": 27,
   "metadata": {
    "colab": {
     "base_uri": "https://localhost:8080/",
     "height": 297
    },
    "executionInfo": {
     "elapsed": 1107,
     "status": "ok",
     "timestamp": 1611834830655,
     "user": {
      "displayName": "Rafael Pinto",
      "photoUrl": "",
      "userId": "01213912175113627450"
     },
     "user_tz": 360
    },
    "id": "gIIZ5had1vaO",
    "outputId": "5ab99976-a5ba-4e4e-81de-0cfac2d25459"
   },
   "outputs": [
    {
     "data": {
      "text/html": [
       "<div>\n",
       "<style scoped>\n",
       "    .dataframe tbody tr th:only-of-type {\n",
       "        vertical-align: middle;\n",
       "    }\n",
       "\n",
       "    .dataframe tbody tr th {\n",
       "        vertical-align: top;\n",
       "    }\n",
       "\n",
       "    .dataframe thead th {\n",
       "        text-align: right;\n",
       "    }\n",
       "</style>\n",
       "<table border=\"1\" class=\"dataframe\">\n",
       "  <thead>\n",
       "    <tr style=\"text-align: right;\">\n",
       "      <th></th>\n",
       "      <th>Sandstone</th>\n",
       "      <th>Sandstone/Shale</th>\n",
       "      <th>Shale</th>\n",
       "      <th>Marl</th>\n",
       "      <th>Dolomite</th>\n",
       "      <th>Limestone</th>\n",
       "      <th>Chalk</th>\n",
       "      <th>Halite</th>\n",
       "      <th>Anhydrite</th>\n",
       "      <th>Tuff</th>\n",
       "      <th>Coal</th>\n",
       "      <th>Basement</th>\n",
       "      <th>MODEL</th>\n",
       "      <th>DEPTH_MD</th>\n",
       "    </tr>\n",
       "  </thead>\n",
       "  <tbody>\n",
       "    <tr>\n",
       "      <th>count</th>\n",
       "      <td>1.367860e+06</td>\n",
       "      <td>1.367860e+06</td>\n",
       "      <td>1.367860e+06</td>\n",
       "      <td>1.367860e+06</td>\n",
       "      <td>1.367860e+06</td>\n",
       "      <td>1.367860e+06</td>\n",
       "      <td>1.367860e+06</td>\n",
       "      <td>1.367860e+06</td>\n",
       "      <td>1.367860e+06</td>\n",
       "      <td>1.367860e+06</td>\n",
       "      <td>1.367860e+06</td>\n",
       "      <td>1.367860e+06</td>\n",
       "      <td>1.367860e+06</td>\n",
       "      <td>1.367860e+06</td>\n",
       "    </tr>\n",
       "    <tr>\n",
       "      <th>mean</th>\n",
       "      <td>1.769701e-01</td>\n",
       "      <td>1.256381e-01</td>\n",
       "      <td>5.975031e-01</td>\n",
       "      <td>2.789420e-02</td>\n",
       "      <td>2.651038e-03</td>\n",
       "      <td>4.626714e-02</td>\n",
       "      <td>4.292167e-03</td>\n",
       "      <td>1.240043e-03</td>\n",
       "      <td>1.299407e-03</td>\n",
       "      <td>9.660656e-03</td>\n",
       "      <td>5.030077e-03</td>\n",
       "      <td>1.025213e-03</td>\n",
       "      <td>4.500000e+00</td>\n",
       "      <td>2.501137e+03</td>\n",
       "    </tr>\n",
       "    <tr>\n",
       "      <th>std</th>\n",
       "      <td>3.036926e-01</td>\n",
       "      <td>1.666607e-01</td>\n",
       "      <td>3.649350e-01</td>\n",
       "      <td>8.654232e-02</td>\n",
       "      <td>3.424942e-03</td>\n",
       "      <td>1.183486e-01</td>\n",
       "      <td>2.387662e-02</td>\n",
       "      <td>1.611267e-03</td>\n",
       "      <td>4.701934e-03</td>\n",
       "      <td>7.090594e-02</td>\n",
       "      <td>3.947128e-02</td>\n",
       "      <td>8.264731e-04</td>\n",
       "      <td>2.872282e+00</td>\n",
       "      <td>1.043242e+03</td>\n",
       "    </tr>\n",
       "    <tr>\n",
       "      <th>min</th>\n",
       "      <td>7.182725e-04</td>\n",
       "      <td>2.094909e-03</td>\n",
       "      <td>1.887737e-03</td>\n",
       "      <td>2.478482e-04</td>\n",
       "      <td>2.168559e-04</td>\n",
       "      <td>4.258760e-04</td>\n",
       "      <td>1.665053e-04</td>\n",
       "      <td>1.256320e-04</td>\n",
       "      <td>1.252633e-04</td>\n",
       "      <td>1.830985e-04</td>\n",
       "      <td>1.526863e-04</td>\n",
       "      <td>1.183809e-04</td>\n",
       "      <td>0.000000e+00</td>\n",
       "      <td>2.272960e+02</td>\n",
       "    </tr>\n",
       "    <tr>\n",
       "      <th>25%</th>\n",
       "      <td>9.845198e-03</td>\n",
       "      <td>2.253529e-02</td>\n",
       "      <td>1.794350e-01</td>\n",
       "      <td>1.627936e-03</td>\n",
       "      <td>9.529537e-04</td>\n",
       "      <td>4.174766e-03</td>\n",
       "      <td>7.383819e-04</td>\n",
       "      <td>5.299607e-04</td>\n",
       "      <td>5.200260e-04</td>\n",
       "      <td>9.819712e-04</td>\n",
       "      <td>7.488949e-04</td>\n",
       "      <td>4.860168e-04</td>\n",
       "      <td>2.000000e+00</td>\n",
       "      <td>1.707942e+03</td>\n",
       "    </tr>\n",
       "    <tr>\n",
       "      <th>50%</th>\n",
       "      <td>2.437701e-02</td>\n",
       "      <td>6.221561e-02</td>\n",
       "      <td>7.704186e-01</td>\n",
       "      <td>4.161557e-03</td>\n",
       "      <td>1.684008e-03</td>\n",
       "      <td>1.095300e-02</td>\n",
       "      <td>1.202866e-03</td>\n",
       "      <td>9.345056e-04</td>\n",
       "      <td>9.212634e-04</td>\n",
       "      <td>1.791685e-03</td>\n",
       "      <td>1.465332e-03</td>\n",
       "      <td>8.616696e-04</td>\n",
       "      <td>4.500000e+00</td>\n",
       "      <td>2.471824e+03</td>\n",
       "    </tr>\n",
       "    <tr>\n",
       "      <th>75%</th>\n",
       "      <td>1.239108e-01</td>\n",
       "      <td>1.468575e-01</td>\n",
       "      <td>9.112463e-01</td>\n",
       "      <td>1.403808e-02</td>\n",
       "      <td>2.835796e-03</td>\n",
       "      <td>2.872961e-02</td>\n",
       "      <td>1.903041e-03</td>\n",
       "      <td>1.420677e-03</td>\n",
       "      <td>1.409471e-03</td>\n",
       "      <td>2.702157e-03</td>\n",
       "      <td>2.813342e-03</td>\n",
       "      <td>1.305456e-03</td>\n",
       "      <td>7.000000e+00</td>\n",
       "      <td>3.294656e+03</td>\n",
       "    </tr>\n",
       "    <tr>\n",
       "      <th>max</th>\n",
       "      <td>9.877037e-01</td>\n",
       "      <td>9.375480e-01</td>\n",
       "      <td>9.940339e-01</td>\n",
       "      <td>8.456008e-01</td>\n",
       "      <td>7.097674e-02</td>\n",
       "      <td>9.726785e-01</td>\n",
       "      <td>3.871913e-01</td>\n",
       "      <td>6.346129e-02</td>\n",
       "      <td>2.698419e-01</td>\n",
       "      <td>9.537187e-01</td>\n",
       "      <td>9.359750e-01</td>\n",
       "      <td>1.838288e-02</td>\n",
       "      <td>9.000000e+00</td>\n",
       "      <td>5.007418e+03</td>\n",
       "    </tr>\n",
       "  </tbody>\n",
       "</table>\n",
       "</div>"
      ],
      "text/plain": [
       "          Sandstone  Sandstone/Shale  ...         MODEL      DEPTH_MD\n",
       "count  1.367860e+06     1.367860e+06  ...  1.367860e+06  1.367860e+06\n",
       "mean   1.769701e-01     1.256381e-01  ...  4.500000e+00  2.501137e+03\n",
       "std    3.036926e-01     1.666607e-01  ...  2.872282e+00  1.043242e+03\n",
       "min    7.182725e-04     2.094909e-03  ...  0.000000e+00  2.272960e+02\n",
       "25%    9.845198e-03     2.253529e-02  ...  2.000000e+00  1.707942e+03\n",
       "50%    2.437701e-02     6.221561e-02  ...  4.500000e+00  2.471824e+03\n",
       "75%    1.239108e-01     1.468575e-01  ...  7.000000e+00  3.294656e+03\n",
       "max    9.877037e-01     9.375480e-01  ...  9.000000e+00  5.007418e+03\n",
       "\n",
       "[8 rows x 14 columns]"
      ]
     },
     "execution_count": 27,
     "metadata": {
      "tags": []
     },
     "output_type": "execute_result"
    }
   ],
   "source": [
    "models_proba.describe()"
   ]
  },
  {
   "cell_type": "code",
   "execution_count": null,
   "metadata": {
    "id": "NpCEeH0c16qR"
   },
   "outputs": [],
   "source": []
  }
 ],
 "metadata": {
  "colab": {
   "collapsed_sections": [],
   "name": "5.0-rp-fit-predict-save-proba-colab.ipynb",
   "provenance": []
  },
  "kernelspec": {
   "display_name": "Python 3",
   "language": "python",
   "name": "python3"
  },
  "language_info": {
   "codemirror_mode": {
    "name": "ipython",
    "version": 3
   },
   "file_extension": ".py",
   "mimetype": "text/x-python",
   "name": "python",
   "nbconvert_exporter": "python",
   "pygments_lexer": "ipython3",
   "version": "3.8.6"
  },
  "toc": {
   "base_numbering": 1,
   "nav_menu": {},
   "number_sections": true,
   "sideBar": true,
   "skip_h1_title": false,
   "title_cell": "Table of Contents",
   "title_sidebar": "Contents",
   "toc_cell": false,
   "toc_position": {},
   "toc_section_display": true,
   "toc_window_display": false
  }
 },
 "nbformat": 4,
 "nbformat_minor": 1
}
