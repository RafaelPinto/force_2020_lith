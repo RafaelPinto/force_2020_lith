{
 "cells": [
  {
   "cell_type": "code",
   "execution_count": 1,
   "metadata": {
    "executionInfo": {
     "elapsed": 1137,
     "status": "ok",
     "timestamp": 1611833919547,
     "user": {
      "displayName": "Rafael Pinto",
      "photoUrl": "",
      "userId": "01213912175113627450"
     },
     "user_tz": 360
    },
    "id": "I2sl9W3Au1hZ"
   },
   "outputs": [],
   "source": [
    "from pathlib import Path\n",
    "\n",
    "import numpy as np\n",
    "import pandas as pd\n",
    "\n",
    "import matplotlib.pyplot as plt\n",
    "\n",
    "from src.data.download_data import download_from_google_drive\n",
    "from src.definitions import ROOT_DIR, KEYS_TO_ORDINAL, KEYS_TO_LITHOLOGY\n",
    "from src.definitions import ORDINAL_TO_KEYS, ORDINAL_TO_LITHOLOGY, LITHOLOGY_TO_ORDINAL\n",
    "from src.model.train_model import score"
   ]
  },
  {
   "cell_type": "code",
   "execution_count": 2,
   "metadata": {},
   "outputs": [],
   "source": [
    "%load_ext autoreload\n",
    "%autoreload 2"
   ]
  },
  {
   "cell_type": "markdown",
   "metadata": {
    "id": "V-_H1SeJu1ho"
   },
   "source": [
    "# Import data\n",
    "\n",
    "The model fitting was done in colab using notebook 5.0. Unfortunatelly, the model saving methods `.save()` class method, and pickle, didn't produce the same predicted probabilities using the loaded models as compared to the ones predictied using the in-memory models. The loaded models predicted probabilities had were all the same value.\n",
    "\n",
    "As a result, I decided to do the fit and predict in colab, and then save the predictions. In this notebook, we load these predictions."
   ]
  },
  {
   "cell_type": "markdown",
   "metadata": {},
   "source": [
    "## y_pred"
   ]
  },
  {
   "cell_type": "code",
   "execution_count": 3,
   "metadata": {},
   "outputs": [],
   "source": [
    "models_proba_path = ROOT_DIR / 'data/raw' / 'models_proba_most_columns_with_nans_no_split_rf.csv'"
   ]
  },
  {
   "cell_type": "code",
   "execution_count": 4,
   "metadata": {},
   "outputs": [
    {
     "name": "stderr",
     "output_type": "stream",
     "text": [
      "Downloading...\n",
      "From: https://drive.google.com/uc?id=19F0cO5ABlQYdahOHzqfBIJPNuo5B9jIZ\n",
      "To: /media/hdd/projects/springboard/force_2020_lith/data/raw/models_proba_most_columns_with_nans_no_split_rf.csv\n",
      "10.4MB [00:00, 25.9MB/s]\n"
     ]
    }
   ],
   "source": [
    "if models_proba_path.is_file():\n",
    "    models_proba = pd.read_csv(models_proba_path)\n",
    "else:\n",
    "    # Try downloading it from Google drive\n",
    "    output_root = models_proba_path.parent\n",
    "    file_id = {models_proba_path.name: '19F0cO5ABlQYdahOHzqfBIJPNuo5B9jIZ'}\n",
    "    \n",
    "    try:\n",
    "        download_from_google_drive(file_id, output_root=output_root)\n",
    "        models_proba = pd.read_csv(models_proba_path)\n",
    "    except:\n",
    "        print('Check if the model proba file exists. If not, run notebook 6.0-rp-fit-predict-save-proba-fillnan-colab on Colab')\n",
    "        print()\n",
    "        print('Also, confirm the file id is the same here as shown in Google drive')"
   ]
  },
  {
   "cell_type": "code",
   "execution_count": 5,
   "metadata": {},
   "outputs": [
    {
     "data": {
      "text/html": [
       "<div>\n",
       "<style scoped>\n",
       "    .dataframe tbody tr th:only-of-type {\n",
       "        vertical-align: middle;\n",
       "    }\n",
       "\n",
       "    .dataframe tbody tr th {\n",
       "        vertical-align: top;\n",
       "    }\n",
       "\n",
       "    .dataframe thead th {\n",
       "        text-align: right;\n",
       "    }\n",
       "</style>\n",
       "<table border=\"1\" class=\"dataframe\">\n",
       "  <thead>\n",
       "    <tr style=\"text-align: right;\">\n",
       "      <th></th>\n",
       "      <th>Sandstone</th>\n",
       "      <th>Sandstone/Shale</th>\n",
       "      <th>Shale</th>\n",
       "      <th>Marl</th>\n",
       "      <th>Dolomite</th>\n",
       "      <th>Limestone</th>\n",
       "      <th>Chalk</th>\n",
       "      <th>Halite</th>\n",
       "      <th>Anhydrite</th>\n",
       "      <th>Tuff</th>\n",
       "      <th>Coal</th>\n",
       "      <th>Basement</th>\n",
       "      <th>WELL</th>\n",
       "      <th>DEPTH_MD</th>\n",
       "    </tr>\n",
       "  </thead>\n",
       "  <tbody>\n",
       "    <tr>\n",
       "      <th>108138</th>\n",
       "      <td>0.01</td>\n",
       "      <td>0.23</td>\n",
       "      <td>0.66</td>\n",
       "      <td>0.03</td>\n",
       "      <td>0.01</td>\n",
       "      <td>0.06</td>\n",
       "      <td>0.0</td>\n",
       "      <td>0.0</td>\n",
       "      <td>0.0</td>\n",
       "      <td>0.00</td>\n",
       "      <td>0.00</td>\n",
       "      <td>0.0</td>\n",
       "      <td>34/3-3 A</td>\n",
       "      <td>4326.609976</td>\n",
       "    </tr>\n",
       "    <tr>\n",
       "      <th>53112</th>\n",
       "      <td>0.10</td>\n",
       "      <td>0.17</td>\n",
       "      <td>0.65</td>\n",
       "      <td>0.00</td>\n",
       "      <td>0.00</td>\n",
       "      <td>0.05</td>\n",
       "      <td>0.0</td>\n",
       "      <td>0.0</td>\n",
       "      <td>0.0</td>\n",
       "      <td>0.03</td>\n",
       "      <td>0.00</td>\n",
       "      <td>0.0</td>\n",
       "      <td>29/3-1</td>\n",
       "      <td>1911.770001</td>\n",
       "    </tr>\n",
       "    <tr>\n",
       "      <th>98200</th>\n",
       "      <td>0.04</td>\n",
       "      <td>0.30</td>\n",
       "      <td>0.58</td>\n",
       "      <td>0.03</td>\n",
       "      <td>0.01</td>\n",
       "      <td>0.04</td>\n",
       "      <td>0.0</td>\n",
       "      <td>0.0</td>\n",
       "      <td>0.0</td>\n",
       "      <td>0.00</td>\n",
       "      <td>0.00</td>\n",
       "      <td>0.0</td>\n",
       "      <td>34/3-3 A</td>\n",
       "      <td>2815.577975</td>\n",
       "    </tr>\n",
       "    <tr>\n",
       "      <th>49120</th>\n",
       "      <td>0.74</td>\n",
       "      <td>0.14</td>\n",
       "      <td>0.12</td>\n",
       "      <td>0.00</td>\n",
       "      <td>0.00</td>\n",
       "      <td>0.00</td>\n",
       "      <td>0.0</td>\n",
       "      <td>0.0</td>\n",
       "      <td>0.0</td>\n",
       "      <td>0.00</td>\n",
       "      <td>0.00</td>\n",
       "      <td>0.0</td>\n",
       "      <td>29/3-1</td>\n",
       "      <td>1303.314001</td>\n",
       "    </tr>\n",
       "    <tr>\n",
       "      <th>9823</th>\n",
       "      <td>0.10</td>\n",
       "      <td>0.08</td>\n",
       "      <td>0.75</td>\n",
       "      <td>0.00</td>\n",
       "      <td>0.00</td>\n",
       "      <td>0.01</td>\n",
       "      <td>0.0</td>\n",
       "      <td>0.0</td>\n",
       "      <td>0.0</td>\n",
       "      <td>0.06</td>\n",
       "      <td>0.00</td>\n",
       "      <td>0.0</td>\n",
       "      <td>15/9-14</td>\n",
       "      <td>1975.092001</td>\n",
       "    </tr>\n",
       "    <tr>\n",
       "      <th>93868</th>\n",
       "      <td>0.97</td>\n",
       "      <td>0.00</td>\n",
       "      <td>0.02</td>\n",
       "      <td>0.00</td>\n",
       "      <td>0.00</td>\n",
       "      <td>0.01</td>\n",
       "      <td>0.0</td>\n",
       "      <td>0.0</td>\n",
       "      <td>0.0</td>\n",
       "      <td>0.00</td>\n",
       "      <td>0.00</td>\n",
       "      <td>0.0</td>\n",
       "      <td>34/10-16 R</td>\n",
       "      <td>3957.072008</td>\n",
       "    </tr>\n",
       "    <tr>\n",
       "      <th>113885</th>\n",
       "      <td>0.49</td>\n",
       "      <td>0.27</td>\n",
       "      <td>0.13</td>\n",
       "      <td>0.01</td>\n",
       "      <td>0.00</td>\n",
       "      <td>0.09</td>\n",
       "      <td>0.0</td>\n",
       "      <td>0.0</td>\n",
       "      <td>0.0</td>\n",
       "      <td>0.00</td>\n",
       "      <td>0.01</td>\n",
       "      <td>0.0</td>\n",
       "      <td>34/6-1 S</td>\n",
       "      <td>3546.666400</td>\n",
       "    </tr>\n",
       "    <tr>\n",
       "      <th>109526</th>\n",
       "      <td>0.02</td>\n",
       "      <td>0.28</td>\n",
       "      <td>0.59</td>\n",
       "      <td>0.04</td>\n",
       "      <td>0.01</td>\n",
       "      <td>0.06</td>\n",
       "      <td>0.0</td>\n",
       "      <td>0.0</td>\n",
       "      <td>0.0</td>\n",
       "      <td>0.00</td>\n",
       "      <td>0.00</td>\n",
       "      <td>0.0</td>\n",
       "      <td>34/3-3 A</td>\n",
       "      <td>4537.585976</td>\n",
       "    </tr>\n",
       "    <tr>\n",
       "      <th>12596</th>\n",
       "      <td>0.00</td>\n",
       "      <td>0.04</td>\n",
       "      <td>0.45</td>\n",
       "      <td>0.00</td>\n",
       "      <td>0.00</td>\n",
       "      <td>0.05</td>\n",
       "      <td>0.0</td>\n",
       "      <td>0.0</td>\n",
       "      <td>0.0</td>\n",
       "      <td>0.46</td>\n",
       "      <td>0.00</td>\n",
       "      <td>0.0</td>\n",
       "      <td>15/9-14</td>\n",
       "      <td>2396.588001</td>\n",
       "    </tr>\n",
       "    <tr>\n",
       "      <th>64207</th>\n",
       "      <td>0.96</td>\n",
       "      <td>0.03</td>\n",
       "      <td>0.00</td>\n",
       "      <td>0.00</td>\n",
       "      <td>0.00</td>\n",
       "      <td>0.01</td>\n",
       "      <td>0.0</td>\n",
       "      <td>0.0</td>\n",
       "      <td>0.0</td>\n",
       "      <td>0.00</td>\n",
       "      <td>0.00</td>\n",
       "      <td>0.0</td>\n",
       "      <td>29/3-1</td>\n",
       "      <td>3609.002001</td>\n",
       "    </tr>\n",
       "  </tbody>\n",
       "</table>\n",
       "</div>"
      ],
      "text/plain": [
       "        Sandstone  Sandstone/Shale  Shale  Marl  Dolomite  Limestone  Chalk  \\\n",
       "108138       0.01             0.23   0.66  0.03      0.01       0.06    0.0   \n",
       "53112        0.10             0.17   0.65  0.00      0.00       0.05    0.0   \n",
       "98200        0.04             0.30   0.58  0.03      0.01       0.04    0.0   \n",
       "49120        0.74             0.14   0.12  0.00      0.00       0.00    0.0   \n",
       "9823         0.10             0.08   0.75  0.00      0.00       0.01    0.0   \n",
       "93868        0.97             0.00   0.02  0.00      0.00       0.01    0.0   \n",
       "113885       0.49             0.27   0.13  0.01      0.00       0.09    0.0   \n",
       "109526       0.02             0.28   0.59  0.04      0.01       0.06    0.0   \n",
       "12596        0.00             0.04   0.45  0.00      0.00       0.05    0.0   \n",
       "64207        0.96             0.03   0.00  0.00      0.00       0.01    0.0   \n",
       "\n",
       "        Halite  Anhydrite  Tuff  Coal  Basement        WELL     DEPTH_MD  \n",
       "108138     0.0        0.0  0.00  0.00       0.0    34/3-3 A  4326.609976  \n",
       "53112      0.0        0.0  0.03  0.00       0.0      29/3-1  1911.770001  \n",
       "98200      0.0        0.0  0.00  0.00       0.0    34/3-3 A  2815.577975  \n",
       "49120      0.0        0.0  0.00  0.00       0.0      29/3-1  1303.314001  \n",
       "9823       0.0        0.0  0.06  0.00       0.0     15/9-14  1975.092001  \n",
       "93868      0.0        0.0  0.00  0.00       0.0  34/10-16 R  3957.072008  \n",
       "113885     0.0        0.0  0.00  0.01       0.0    34/6-1 S  3546.666400  \n",
       "109526     0.0        0.0  0.00  0.00       0.0    34/3-3 A  4537.585976  \n",
       "12596      0.0        0.0  0.46  0.00       0.0     15/9-14  2396.588001  \n",
       "64207      0.0        0.0  0.00  0.00       0.0      29/3-1  3609.002001  "
      ]
     },
     "execution_count": 5,
     "metadata": {},
     "output_type": "execute_result"
    }
   ],
   "source": [
    "models_proba.sample(10)"
   ]
  },
  {
   "cell_type": "code",
   "execution_count": 6,
   "metadata": {},
   "outputs": [
    {
     "data": {
      "text/plain": [
       "count    1.367860e+05\n",
       "mean     1.000000e+00\n",
       "std      4.655019e-17\n",
       "min      1.000000e+00\n",
       "25%      1.000000e+00\n",
       "50%      1.000000e+00\n",
       "75%      1.000000e+00\n",
       "max      1.000000e+00\n",
       "dtype: float64"
      ]
     },
     "execution_count": 6,
     "metadata": {},
     "output_type": "execute_result"
    }
   ],
   "source": [
    "# The sum of all probabilities for each sample should be 1\n",
    "models_proba.loc[:, 'Sandstone':'Basement'].sum(axis=1).describe()"
   ]
  },
  {
   "cell_type": "code",
   "execution_count": 7,
   "metadata": {},
   "outputs": [
    {
     "data": {
      "text/html": [
       "<div>\n",
       "<style scoped>\n",
       "    .dataframe tbody tr th:only-of-type {\n",
       "        vertical-align: middle;\n",
       "    }\n",
       "\n",
       "    .dataframe tbody tr th {\n",
       "        vertical-align: top;\n",
       "    }\n",
       "\n",
       "    .dataframe thead th {\n",
       "        text-align: right;\n",
       "    }\n",
       "</style>\n",
       "<table border=\"1\" class=\"dataframe\">\n",
       "  <thead>\n",
       "    <tr style=\"text-align: right;\">\n",
       "      <th></th>\n",
       "      <th>Sandstone</th>\n",
       "      <th>Sandstone/Shale</th>\n",
       "      <th>Shale</th>\n",
       "      <th>Marl</th>\n",
       "      <th>Dolomite</th>\n",
       "      <th>Limestone</th>\n",
       "      <th>Chalk</th>\n",
       "      <th>Halite</th>\n",
       "      <th>Anhydrite</th>\n",
       "      <th>Tuff</th>\n",
       "      <th>Coal</th>\n",
       "      <th>Basement</th>\n",
       "      <th>WELL</th>\n",
       "      <th>DEPTH_MD</th>\n",
       "    </tr>\n",
       "  </thead>\n",
       "  <tbody>\n",
       "    <tr>\n",
       "      <th>0</th>\n",
       "      <td>0.11</td>\n",
       "      <td>0.11</td>\n",
       "      <td>0.72</td>\n",
       "      <td>0.01</td>\n",
       "      <td>0.0</td>\n",
       "      <td>0.04</td>\n",
       "      <td>0.0</td>\n",
       "      <td>0.0</td>\n",
       "      <td>0.0</td>\n",
       "      <td>0.01</td>\n",
       "      <td>0.0</td>\n",
       "      <td>0.0</td>\n",
       "      <td>15/9-14</td>\n",
       "      <td>480.628001</td>\n",
       "    </tr>\n",
       "    <tr>\n",
       "      <th>1</th>\n",
       "      <td>0.08</td>\n",
       "      <td>0.17</td>\n",
       "      <td>0.70</td>\n",
       "      <td>0.00</td>\n",
       "      <td>0.0</td>\n",
       "      <td>0.04</td>\n",
       "      <td>0.0</td>\n",
       "      <td>0.0</td>\n",
       "      <td>0.0</td>\n",
       "      <td>0.01</td>\n",
       "      <td>0.0</td>\n",
       "      <td>0.0</td>\n",
       "      <td>15/9-14</td>\n",
       "      <td>480.780001</td>\n",
       "    </tr>\n",
       "    <tr>\n",
       "      <th>2</th>\n",
       "      <td>0.07</td>\n",
       "      <td>0.20</td>\n",
       "      <td>0.66</td>\n",
       "      <td>0.00</td>\n",
       "      <td>0.0</td>\n",
       "      <td>0.06</td>\n",
       "      <td>0.0</td>\n",
       "      <td>0.0</td>\n",
       "      <td>0.0</td>\n",
       "      <td>0.01</td>\n",
       "      <td>0.0</td>\n",
       "      <td>0.0</td>\n",
       "      <td>15/9-14</td>\n",
       "      <td>480.932001</td>\n",
       "    </tr>\n",
       "    <tr>\n",
       "      <th>3</th>\n",
       "      <td>0.07</td>\n",
       "      <td>0.14</td>\n",
       "      <td>0.75</td>\n",
       "      <td>0.00</td>\n",
       "      <td>0.0</td>\n",
       "      <td>0.02</td>\n",
       "      <td>0.0</td>\n",
       "      <td>0.0</td>\n",
       "      <td>0.0</td>\n",
       "      <td>0.02</td>\n",
       "      <td>0.0</td>\n",
       "      <td>0.0</td>\n",
       "      <td>15/9-14</td>\n",
       "      <td>481.084001</td>\n",
       "    </tr>\n",
       "    <tr>\n",
       "      <th>4</th>\n",
       "      <td>0.06</td>\n",
       "      <td>0.12</td>\n",
       "      <td>0.80</td>\n",
       "      <td>0.00</td>\n",
       "      <td>0.0</td>\n",
       "      <td>0.01</td>\n",
       "      <td>0.0</td>\n",
       "      <td>0.0</td>\n",
       "      <td>0.0</td>\n",
       "      <td>0.01</td>\n",
       "      <td>0.0</td>\n",
       "      <td>0.0</td>\n",
       "      <td>15/9-14</td>\n",
       "      <td>481.236001</td>\n",
       "    </tr>\n",
       "  </tbody>\n",
       "</table>\n",
       "</div>"
      ],
      "text/plain": [
       "   Sandstone  Sandstone/Shale  Shale  Marl  Dolomite  Limestone  Chalk  \\\n",
       "0       0.11             0.11   0.72  0.01       0.0       0.04    0.0   \n",
       "1       0.08             0.17   0.70  0.00       0.0       0.04    0.0   \n",
       "2       0.07             0.20   0.66  0.00       0.0       0.06    0.0   \n",
       "3       0.07             0.14   0.75  0.00       0.0       0.02    0.0   \n",
       "4       0.06             0.12   0.80  0.00       0.0       0.01    0.0   \n",
       "\n",
       "   Halite  Anhydrite  Tuff  Coal  Basement     WELL    DEPTH_MD  \n",
       "0     0.0        0.0  0.01   0.0       0.0  15/9-14  480.628001  \n",
       "1     0.0        0.0  0.01   0.0       0.0  15/9-14  480.780001  \n",
       "2     0.0        0.0  0.01   0.0       0.0  15/9-14  480.932001  \n",
       "3     0.0        0.0  0.02   0.0       0.0  15/9-14  481.084001  \n",
       "4     0.0        0.0  0.01   0.0       0.0  15/9-14  481.236001  "
      ]
     },
     "execution_count": 7,
     "metadata": {},
     "output_type": "execute_result"
    }
   ],
   "source": [
    "models_proba.head()"
   ]
  },
  {
   "cell_type": "markdown",
   "metadata": {},
   "source": [
    "## y_true"
   ]
  },
  {
   "cell_type": "code",
   "execution_count": 8,
   "metadata": {},
   "outputs": [],
   "source": [
    "csv_open_test_path = ROOT_DIR / 'data/external/open_test_y_true.csv'\n",
    "\n",
    "csv_open_test = pd.read_csv(csv_open_test_path, ',')"
   ]
  },
  {
   "cell_type": "code",
   "execution_count": 9,
   "metadata": {},
   "outputs": [
    {
     "data": {
      "text/html": [
       "<div>\n",
       "<style scoped>\n",
       "    .dataframe tbody tr th:only-of-type {\n",
       "        vertical-align: middle;\n",
       "    }\n",
       "\n",
       "    .dataframe tbody tr th {\n",
       "        vertical-align: top;\n",
       "    }\n",
       "\n",
       "    .dataframe thead th {\n",
       "        text-align: right;\n",
       "    }\n",
       "</style>\n",
       "<table border=\"1\" class=\"dataframe\">\n",
       "  <thead>\n",
       "    <tr style=\"text-align: right;\">\n",
       "      <th></th>\n",
       "      <th>WELL</th>\n",
       "      <th>DEPTH_MD</th>\n",
       "      <th>FORCE_2020_LITHOFACIES_LITHOLOGY</th>\n",
       "    </tr>\n",
       "  </thead>\n",
       "  <tbody>\n",
       "    <tr>\n",
       "      <th>0</th>\n",
       "      <td>15/9-14</td>\n",
       "      <td>480.628001</td>\n",
       "      <td>65000</td>\n",
       "    </tr>\n",
       "    <tr>\n",
       "      <th>1</th>\n",
       "      <td>15/9-14</td>\n",
       "      <td>480.780001</td>\n",
       "      <td>65000</td>\n",
       "    </tr>\n",
       "    <tr>\n",
       "      <th>2</th>\n",
       "      <td>15/9-14</td>\n",
       "      <td>480.932001</td>\n",
       "      <td>65000</td>\n",
       "    </tr>\n",
       "    <tr>\n",
       "      <th>3</th>\n",
       "      <td>15/9-14</td>\n",
       "      <td>481.084001</td>\n",
       "      <td>65000</td>\n",
       "    </tr>\n",
       "    <tr>\n",
       "      <th>4</th>\n",
       "      <td>15/9-14</td>\n",
       "      <td>481.236001</td>\n",
       "      <td>65000</td>\n",
       "    </tr>\n",
       "  </tbody>\n",
       "</table>\n",
       "</div>"
      ],
      "text/plain": [
       "      WELL    DEPTH_MD  FORCE_2020_LITHOFACIES_LITHOLOGY\n",
       "0  15/9-14  480.628001                             65000\n",
       "1  15/9-14  480.780001                             65000\n",
       "2  15/9-14  480.932001                             65000\n",
       "3  15/9-14  481.084001                             65000\n",
       "4  15/9-14  481.236001                             65000"
      ]
     },
     "execution_count": 9,
     "metadata": {},
     "output_type": "execute_result"
    }
   ],
   "source": [
    "csv_open_test.head()"
   ]
  },
  {
   "cell_type": "code",
   "execution_count": 10,
   "metadata": {},
   "outputs": [],
   "source": [
    "y_true = csv_open_test['FORCE_2020_LITHOFACIES_LITHOLOGY'].map(KEYS_TO_ORDINAL)"
   ]
  },
  {
   "cell_type": "markdown",
   "metadata": {},
   "source": [
    "# Lithology with highest probability per sample"
   ]
  },
  {
   "cell_type": "code",
   "execution_count": 11,
   "metadata": {},
   "outputs": [],
   "source": [
    "# Turn column names from lith to ordinal\n",
    "models_proba = models_proba.loc[:, 'Sandstone':'Basement']\n",
    "models_proba.columns = [LITHOLOGY_TO_ORDINAL[col] for col in models_proba.columns]"
   ]
  },
  {
   "cell_type": "code",
   "execution_count": 12,
   "metadata": {},
   "outputs": [],
   "source": [
    "y_pred = models_proba.idxmax(axis=1)"
   ]
  },
  {
   "cell_type": "markdown",
   "metadata": {},
   "source": [
    "# Score"
   ]
  },
  {
   "cell_type": "code",
   "execution_count": 13,
   "metadata": {},
   "outputs": [],
   "source": [
    "open_test_score = score(y_true, y_pred)"
   ]
  },
  {
   "cell_type": "code",
   "execution_count": 14,
   "metadata": {},
   "outputs": [
    {
     "name": "stdout",
     "output_type": "stream",
     "text": [
      "Olawale modified open test score is: -0.5736\n"
     ]
    }
   ],
   "source": [
    "print(f'Olawale modified open test score is: {open_test_score:.4f}')"
   ]
  }
 ],
 "metadata": {
  "colab": {
   "collapsed_sections": [],
   "name": "5.0-rp-fit-predict-save-proba-colab.ipynb",
   "provenance": []
  },
  "kernelspec": {
   "display_name": "Python 3",
   "language": "python",
   "name": "python3"
  },
  "language_info": {
   "codemirror_mode": {
    "name": "ipython",
    "version": 3
   },
   "file_extension": ".py",
   "mimetype": "text/x-python",
   "name": "python",
   "nbconvert_exporter": "python",
   "pygments_lexer": "ipython3",
   "version": "3.8.6"
  },
  "toc": {
   "base_numbering": 1,
   "nav_menu": {},
   "number_sections": true,
   "sideBar": true,
   "skip_h1_title": false,
   "title_cell": "Table of Contents",
   "title_sidebar": "Contents",
   "toc_cell": false,
   "toc_position": {},
   "toc_section_display": true,
   "toc_window_display": false
  }
 },
 "nbformat": 4,
 "nbformat_minor": 1
}
