{
 "cells": [
  {
   "cell_type": "code",
   "execution_count": 19,
   "metadata": {
    "executionInfo": {
     "elapsed": 586,
     "status": "ok",
     "timestamp": 1612011733666,
     "user": {
      "displayName": "Rafael Pinto",
      "photoUrl": "",
      "userId": "01213912175113627450"
     },
     "user_tz": 360
    },
    "id": "I2sl9W3Au1hZ"
   },
   "outputs": [],
   "source": [
    "from pathlib import Path\n",
    "import pickle\n",
    "\n",
    "import numpy as np\n",
    "import numpy.random as nr\n",
    "\n",
    "import matplotlib\n",
    "import matplotlib.pyplot as plt\n",
    "\n",
    "import pandas as pd\n",
    "\n",
    "import sklearn\n",
    "from sklearn.linear_model import LogisticRegression\n",
    "from sklearn import preprocessing\n",
    "import sklearn.model_selection as ms\n",
    "from sklearn.model_selection import StratifiedKFold\n",
    "from sklearn.metrics import accuracy_score, f1_score\n",
    "\n",
    "import xgboost as xgb\n",
    "from xgboost import XGBClassifier"
   ]
  },
  {
   "cell_type": "code",
   "execution_count": 20,
   "metadata": {
    "colab": {
     "base_uri": "https://localhost:8080/"
    },
    "executionInfo": {
     "elapsed": 647,
     "status": "ok",
     "timestamp": 1612011735079,
     "user": {
      "displayName": "Rafael Pinto",
      "photoUrl": "",
      "userId": "01213912175113627450"
     },
     "user_tz": 360
    },
    "id": "QyMvK7e8u1hg",
    "outputId": "31e7b8b7-e189-4e64-acbb-d01a8cf5c143"
   },
   "outputs": [
    {
     "name": "stdout",
     "output_type": "stream",
     "text": [
      "pandas version is: 1.1.5\n",
      "numpy version is: 1.19.5\n",
      "matplotlib version is: 3.2.2\n",
      "sklearn version is: 0.22.2.post1\n",
      "xgboost version is: 0.90\n"
     ]
    }
   ],
   "source": [
    "# Print out packages versions\n",
    "print(f'pandas version is: {pd.__version__}')\n",
    "print(f'numpy version is: {np.__version__}')\n",
    "print(f'matplotlib version is: {matplotlib.__version__}')\n",
    "print(f'sklearn version is: {sklearn.__version__}')\n",
    "print(f'xgboost version is: {xgb.__version__}')"
   ]
  },
  {
   "cell_type": "markdown",
   "metadata": {
    "id": "HE9_Q2bsu1hi"
   },
   "source": [
    "# Helper functions"
   ]
  },
  {
   "cell_type": "code",
   "execution_count": 21,
   "metadata": {
    "executionInfo": {
     "elapsed": 872,
     "status": "ok",
     "timestamp": 1612011737300,
     "user": {
      "displayName": "Rafael Pinto",
      "photoUrl": "",
      "userId": "01213912175113627450"
     },
     "user_tz": 360
    },
    "id": "m1x1Oo6ju1hi"
   },
   "outputs": [],
   "source": [
    "def replace_nan_inf(df, value=None):\n",
    "    \"\"\"\n",
    "    Replace missing and infinity values.\n",
    "\n",
    "    Parameters\n",
    "    ----------\n",
    "    df : pandas.DataFrame\n",
    "        Dataframe with values to be replaced.\n",
    "\n",
    "    value : int, float\n",
    "        Value to replace any missing or numpy.inf values. Defaults to numpy.nan\n",
    "    Returns\n",
    "    -------\n",
    "    pandas.DataFrame\n",
    "        Dataframe with missing and infinity values replaced with -999.\n",
    "\n",
    "    \"\"\"\n",
    "    if value is None:\n",
    "        value = np.nan\n",
    "    return df.replace(to_replace=[np.nan, np.inf, -np.inf],\n",
    "                      value=value)\n",
    "\n",
    "\n",
    "def shift_concat(df, periods=1, fill_value=None):\n",
    "    \"\"\"\n",
    "    Build dataframe of shifted index.\n",
    "\n",
    "    Parameters\n",
    "    ----------\n",
    "    df : pandas.DataFrame\n",
    "        Dataframe with columns to be shifted.\n",
    "    periods : int\n",
    "        Number of periods to shift. Should be positive.\n",
    "    fill_value : object, optional\n",
    "        The scalar value to use for newly introduced missing values. Defaults\n",
    "        to numpy.nan.\n",
    "\n",
    "    Returns\n",
    "    -------\n",
    "    pandas.DataFrame\n",
    "        Shifted dataframes concatenated along columns axis.\n",
    "\n",
    "    Notes\n",
    "    -------\n",
    "    Based on Paulo Bestagini's augment_features_window from SEG 2016 ML\n",
    "    competition.\n",
    "    https://github.com/seg/2016-ml-contest/blob/master/ispl/facies_classification_try01.ipynb\n",
    "\n",
    "    Example\n",
    "    -------\n",
    "    Shift df by one period and concatenate.\n",
    "\n",
    "    >>> df = pd.DataFrame({'gr': [1.1, 2.1], 'den': [2.1, 2.2]})\n",
    "    >>> shift_concat(df)\n",
    "        gr_shifted_1  den_shifted_1  gr   den  gr_shifted_-1   den_shifted_-1\n",
    "    0      NaN            NaN        1.1  2.1      2.1             2.2\n",
    "    1      1.1            2.1        2.1  2.2      NaN             NaN\n",
    "\n",
    "    \"\"\"\n",
    "    if fill_value is None:\n",
    "        fill_value = np.nan\n",
    "\n",
    "    dfs = []\n",
    "    for period in range(periods, -1*periods - 1, -1):\n",
    "\n",
    "        if period == 0:\n",
    "            dfs.append(df)\n",
    "            continue\n",
    "\n",
    "        df_shifted = df.shift(period, fill_value=fill_value)\n",
    "\n",
    "        df_shifted.columns = [f'{col}_shifted_{str(period)}'\n",
    "                              for col in df_shifted.columns]\n",
    "\n",
    "        dfs.append(df_shifted)\n",
    "\n",
    "    return pd.concat(dfs, axis=1)\n",
    "\n",
    "\n",
    "def gradient(df, depth_col):\n",
    "    \"\"\"\n",
    "    Calculate the gradient for all features along the provided `depth_col`\n",
    "    column.\n",
    "\n",
    "    Parameters\n",
    "    ----------\n",
    "    df : pandas.DataFrame\n",
    "        Dataframe with columns to be used in the gradient calculation.\n",
    "    depth_col : str\n",
    "        Dataframe column name to be used as depth reference.\n",
    "\n",
    "    Returns\n",
    "    -------\n",
    "    pandas.DataFrame\n",
    "        Gradient of `df` along `depth_col` column. The depth column is not in\n",
    "        the output dataframe.\n",
    "\n",
    "    Notes\n",
    "    -------\n",
    "    Based on Paulo Bestagini's augment_features_window from SEG 2016 ML\n",
    "    competition.\n",
    "    https://github.com/seg/2016-ml-contest/blob/master/ispl/facies_classification_try01.ipynb\n",
    "\n",
    "    Example\n",
    "    -------\n",
    "    Calculate gradient of columns along `md`.\n",
    "\n",
    "    >>> df = pd.DataFrame({'gr': [100.1, 100.2, 100.3],\n",
    "                          'den': [2.1, 2.2, 2.3],\n",
    "                          'md': [500, 500.5, 501]})\n",
    "    >>> gradient(df, 'md')\n",
    "        gr  den\n",
    "    0  NaN  NaN\n",
    "    1  0.2  0.2\n",
    "    2  0.2  0.2\n",
    "\n",
    "    \"\"\"\n",
    "    depth_diff = df[depth_col].diff()\n",
    "\n",
    "    denom_zeros = np.isclose(depth_diff, 0)\n",
    "    depth_diff[denom_zeros] = 0.001\n",
    "\n",
    "    df_diff = df.drop(depth_col, axis=1)\n",
    "    df_diff = df_diff.diff()\n",
    "\n",
    "    # Add suffix to column names\n",
    "    df_diff.columns = [f'{col}_gradient' for col in df_diff.columns]\n",
    "\n",
    "    return df_diff.divide(depth_diff, axis=0)\n",
    "\n",
    "\n",
    "def shift_concat_gradient(df, depth_col, well_col, cat_cols, periods=1, fill_value=None):\n",
    "    \"\"\"\n",
    "    Augment features using `shif_concat` and `gradient`.\n",
    "\n",
    "    Parameters\n",
    "    ----------\n",
    "    df : pandas.DataFrame\n",
    "        Dataframe with columns to be augmented.\n",
    "    depth_col : str\n",
    "        Dataframe column name to be used as depth reference.\n",
    "    well_col : str\n",
    "        Dataframe column name to be used as well reference.\n",
    "    cat_cols: list of str\n",
    "        Encoded column names. The gradient calculation is not applied to these\n",
    "        columns.\n",
    "    periods : int\n",
    "        Number of periods to shift. Should be positive.\n",
    "    fill_value : object, optional\n",
    "        The scalar value to use for newly introduced missing values. Defaults\n",
    "        to numpy.nan.\n",
    "\n",
    "    Returns\n",
    "    -------\n",
    "    pandas.DataFrame\n",
    "        Augmented dataframe.\n",
    "\n",
    "    Notes\n",
    "    -------\n",
    "    Based on Paulo Bestagini's augment_features_window from SEG 2016 ML\n",
    "    competition.\n",
    "    https://github.com/seg/2016-ml-contest/blob/master/ispl/facies_classification_try01.ipynb\n",
    "\n",
    "    Example\n",
    "    -------\n",
    "    Augment features of `df` by shifting and taking the gradient.\n",
    "\n",
    "    >>> df = pd.DataFrame({'gr': [100.1, 100.2, 100.3, 20.1, 20.2, 20.3],\n",
    "                          'den': [2.1, 2.2, 2.3, 1.7, 1.8, 1.9],\n",
    "                           'md': [500, 500.5, 501, 1000, 1000.05, 1001],\n",
    "                         'well': [1, 1, 1, 2, 2, 2]})\n",
    "    >>> shift_concat_gradient(df, 'md', 'well', periods=1, fill_value=None)\n",
    "        gr_shifted_1  den_shifted_1     gr    den  ...  well   md    gr_gradient  den_gradient\n",
    "    0         NaN          NaN         100.1  2.1  ...   1   500.00        NaN           NaN\n",
    "    1       100.1          2.1         100.2  2.2  ...   1   500.50   0.200000      0.200000\n",
    "    2       100.2          2.2         100.3  2.3  ...   1   501.00   0.200000      0.200000\n",
    "    3         NaN          NaN          20.1  1.7  ...   2  1000.00        NaN           NaN\n",
    "    4        20.1          1.7          20.2  1.8  ...   2  1000.05   2.000000      2.000000\n",
    "    5        20.2          1.8          20.3  1.9  ...   2  1001.00   0.105263      0.105263\n",
    "\n",
    "    \"\"\"\n",
    "    # TODO 'Consider filling missing values created here with DataFrame.fillna'\n",
    "\n",
    "    # Columns to apply gradient operation\n",
    "    cat_cols.append(well_col)\n",
    "    gradient_cols = [col for col in df.columns if col not in cat_cols]\n",
    "\n",
    "    # Don't shift depth\n",
    "    depth = df.loc[:, depth_col]\n",
    "\n",
    "    grouped = df.groupby(well_col, sort=False)\n",
    "\n",
    "    df_aug_groups = []\n",
    "    for name, group in grouped:\n",
    "        shift_cols_df = group.drop([well_col, depth_col], axis=1)\n",
    "\n",
    "        group_shift = shift_concat(shift_cols_df,\n",
    "                                   periods=periods,\n",
    "                                   fill_value=fill_value)\n",
    "\n",
    "        # Add back the well name and depth\n",
    "        group_shift[well_col] = name\n",
    "        group_shift[depth_col] = depth\n",
    "\n",
    "        group_gradient = group.loc[:, gradient_cols]\n",
    "\n",
    "        group_gradient = gradient(group_gradient, depth_col)\n",
    "\n",
    "        group_aug = pd.concat([group_shift, group_gradient], axis=1)\n",
    "\n",
    "        df_aug_groups.append(group_aug)\n",
    "\n",
    "    return pd.concat(df_aug_groups)\n",
    "\n",
    "\n",
    "def score(y_true, y_pred, scoring_matrix):\n",
    "    \"\"\"\n",
    "    Competition scoring function.\n",
    "\n",
    "    Parameters\n",
    "    ----------\n",
    "    y_true : pandas.Series\n",
    "        Ground truth (correct) target values.\n",
    "    y_pred : pandas.Series\n",
    "        Estimated targets as returned by a classifier.\n",
    "    scoring_matrix : numpy.array\n",
    "        Competition scoring matrix.\n",
    "\n",
    "    Returns\n",
    "    ----------\n",
    "    float\n",
    "        2020 FORCE ML lithology competition custome score.\n",
    "\n",
    "    \"\"\"\n",
    "    S = 0.0\n",
    "\n",
    "    for true_val, pred_val in zip(y_true, y_pred):\n",
    "        S -= scoring_matrix[true_val, pred_val]\n",
    "\n",
    "    return S/y_true.shape[0]\n",
    "\n",
    "\n",
    "def show_evaluation(y_true, y_pred):\n",
    "    \"\"\"\n",
    "    Print model performance and evaluation.\n",
    "\n",
    "    Parameters\n",
    "    ----------\n",
    "    y_true : pandas.Series\n",
    "        Ground truth (correct) target values.\n",
    "    y_pred: pandas.Series\n",
    "        Estimated targets as returned by a classifier.\n",
    "\n",
    "    \"\"\"\n",
    "    print(f'Competition score: {score(y_true, y_pred)}')\n",
    "    print(f'Accuracy: {accuracy_score(y_true, y_pred)}')\n",
    "    print(f'F1: {f1_score(y_true, y_pred, average=\"weighted\")}')\n",
    "\n",
    "\n",
    "def build_encoding_map(series):\n",
    "    \"\"\"\n",
    "    Build dictionary with the mapping of series unique values to encoded\n",
    "    values.\n",
    "\n",
    "    Parameters\n",
    "    ----------\n",
    "    series : pandas.Series\n",
    "        Series with categories to be encoded.\n",
    "\n",
    "    Returns\n",
    "    -------\n",
    "    mapping : dict\n",
    "        Dictionary mapping unique categories in series to encoded values.\n",
    "\n",
    "    See Also\n",
    "    --------\n",
    "    label_encode_columns : Label encode a dataframe categorical columns.\n",
    "\n",
    "    \"\"\"\n",
    "    unique_values = series.unique()\n",
    "\n",
    "    mapping = {original: encoded\n",
    "               for encoded, original in enumerate(unique_values)\n",
    "               if original is not np.nan}\n",
    "\n",
    "    return mapping\n",
    "\n",
    "\n",
    "def label_encode_columns(df, cat_cols, mappings):\n",
    "    \"\"\"\n",
    "    Label encode a dataframe categorical columns.\n",
    "\n",
    "    Parameters\n",
    "    ----------\n",
    "    df : pandas.DataFrame\n",
    "        Dataframe with columns to be encoded.\n",
    "    cat_cols: list of str\n",
    "        Column names to be encoded.\n",
    "    mappings: dict of dict\n",
    "        Dictionary containing a key-value mapping for each column to be\n",
    "        encoded.\n",
    "\n",
    "    Returns\n",
    "    -------\n",
    "    df : pandas.DataFrame\n",
    "        Dataframe with the encoded columns added and the `cat_cols` removed.\n",
    "    encoded_col_names: list of str\n",
    "        Encoded column names.\n",
    "\n",
    "    See Also\n",
    "    --------\n",
    "    build_encoding_map : Build a series encoding mapping.\n",
    "\n",
    "    \"\"\"\n",
    "    df = df.copy()\n",
    "\n",
    "    encoded_col_names = []\n",
    "    for col in cat_cols:\n",
    "        new_col = f'{col}_encoded'\n",
    "        encoded_col_names.append(new_col)\n",
    "\n",
    "        df[new_col] = df[col].map(mappings[col])\n",
    "\n",
    "        df.drop(col, axis=1, inplace=True)\n",
    "\n",
    "    return df, encoded_col_names"
   ]
  },
  {
   "cell_type": "markdown",
   "metadata": {
    "id": "b5S-CRBbGc02"
   },
   "source": [
    "# Target maps"
   ]
  },
  {
   "cell_type": "code",
   "execution_count": 22,
   "metadata": {
    "executionInfo": {
     "elapsed": 822,
     "status": "ok",
     "timestamp": 1612011738327,
     "user": {
      "displayName": "Rafael Pinto",
      "photoUrl": "",
      "userId": "01213912175113627450"
     },
     "user_tz": 360
    },
    "id": "pKPoKfl6Geev"
   },
   "outputs": [],
   "source": [
    "KEYS_TO_ORDINAL = {\n",
    "    30000: 0,\n",
    "    65030: 1,\n",
    "    65000: 2,\n",
    "    80000: 3,\n",
    "    74000: 4,\n",
    "    70000: 5,\n",
    "    70032: 6,\n",
    "    88000: 7,\n",
    "    86000: 8,\n",
    "    99000: 9,\n",
    "    90000: 10,\n",
    "    93000: 11\n",
    "    }\n",
    "\n",
    "\n",
    "KEYS_TO_LITHOLOGY = {30000: 'Sandstone',\n",
    "                     65030: 'Sandstone/Shale',\n",
    "                     65000: 'Shale',\n",
    "                     80000: 'Marl',\n",
    "                     74000: 'Dolomite',\n",
    "                     70000: 'Limestone',\n",
    "                     70032: 'Chalk',\n",
    "                     88000: 'Halite',\n",
    "                     86000: 'Anhydrite',\n",
    "                     99000: 'Tuff',\n",
    "                     90000: 'Coal',\n",
    "                     93000: 'Basement'}\n",
    "\n",
    "ORDINAL_TO_KEYS = {value: key for key, value in  KEYS_TO_ORDINAL.items()}\n",
    "\n",
    "ORDINAL_TO_LITHOLOGY = {}\n",
    "for ordinal_key, key in ORDINAL_TO_KEYS.items():\n",
    "    ORDINAL_TO_LITHOLOGY[ordinal_key] = KEYS_TO_LITHOLOGY[key]"
   ]
  },
  {
   "cell_type": "markdown",
   "metadata": {
    "id": "V-_H1SeJu1ho"
   },
   "source": [
    "# Import data\n",
    "\n",
    "First add a shortcut from the [google drive competition data location](https://drive.google.com/drive/folders/1GIkjq4fwgwbiqVQxYwoJnOJWVobZ91pL) to your own google drive. We will mount this drive, and access the data from it.\n",
    "\n",
    "We will save the results to a diffent folder, where we have write access."
   ]
  },
  {
   "cell_type": "code",
   "execution_count": 23,
   "metadata": {
    "colab": {
     "base_uri": "https://localhost:8080/"
    },
    "executionInfo": {
     "elapsed": 1868,
     "status": "ok",
     "timestamp": 1612011740793,
     "user": {
      "displayName": "Rafael Pinto",
      "photoUrl": "",
      "userId": "01213912175113627450"
     },
     "user_tz": 360
    },
    "id": "fEYM1Xz2u1ht",
    "outputId": "8aa293ef-3893-43d2-b74a-aab280eff129"
   },
   "outputs": [
    {
     "name": "stdout",
     "output_type": "stream",
     "text": [
      "Mounted at /content/drive\n"
     ]
    }
   ],
   "source": [
    "from google.colab import drive\n",
    "drive.mount('/content/drive', force_remount=True)"
   ]
  },
  {
   "cell_type": "code",
   "execution_count": 24,
   "metadata": {
    "executionInfo": {
     "elapsed": 1196,
     "status": "ok",
     "timestamp": 1612011740796,
     "user": {
      "displayName": "Rafael Pinto",
      "photoUrl": "",
      "userId": "01213912175113627450"
     },
     "user_tz": 360
    },
    "id": "RpIq9zscu1hu"
   },
   "outputs": [],
   "source": [
    "#should be edited to the present working directory of the user\n",
    "data_source = '/content/drive/My Drive/FORCE 2020 lithofacies prediction from well logs competition/'"
   ]
  },
  {
   "cell_type": "code",
   "execution_count": 25,
   "metadata": {
    "executionInfo": {
     "elapsed": 4193,
     "status": "ok",
     "timestamp": 1612011745951,
     "user": {
      "displayName": "Rafael Pinto",
      "photoUrl": "",
      "userId": "01213912175113627450"
     },
     "user_tz": 360
    },
    "id": "7BG8lQNYu1hu"
   },
   "outputs": [],
   "source": [
    "penalty_matrix = np.load(data_source + 'penalty_matrix.npy')\n",
    "\n",
    "train = pd.read_csv(data_source + 'CSV_train.csv', sep=';')\n",
    "\n",
    "test = pd.read_csv(data_source + 'CSV_test.csv', sep=';')"
   ]
  },
  {
   "cell_type": "code",
   "execution_count": 26,
   "metadata": {
    "executionInfo": {
     "elapsed": 3572,
     "status": "ok",
     "timestamp": 1612011745955,
     "user": {
      "displayName": "Rafael Pinto",
      "photoUrl": "",
      "userId": "01213912175113627450"
     },
     "user_tz": 360
    },
    "id": "dt2Oge4Fu1hv"
   },
   "outputs": [],
   "source": [
    "# Destination folder\n",
    "out_data_dir = Path('/content/drive/My Drive/lith_pred/')"
   ]
  },
  {
   "cell_type": "markdown",
   "metadata": {
    "id": "kJyhGrd8PDrK"
   },
   "source": [
    "# Train model"
   ]
  },
  {
   "cell_type": "code",
   "execution_count": 27,
   "metadata": {
    "executionInfo": {
     "elapsed": 866,
     "status": "ok",
     "timestamp": 1612011747522,
     "user": {
      "displayName": "Rafael Pinto",
      "photoUrl": "",
      "userId": "01213912175113627450"
     },
     "user_tz": 360
    },
    "id": "AmSp3xSsu1hv"
   },
   "outputs": [],
   "source": [
    "class Model():\n",
    "    '''\n",
    "    class to lithology prediction\n",
    "    '''\n",
    "    def preprocess(self, df, cat_columns, mappings):\n",
    "        # Grab model features\n",
    "        drop_cols = [\n",
    "                     'FORCE_2020_LITHOFACIES_CONFIDENCE',\n",
    "                     'SGR',\n",
    "                     'DTS',\n",
    "                     'RXO',\n",
    "                     'ROPA'\n",
    "                     ]\n",
    "\n",
    "        # Confirm drop columns are in df\n",
    "        drop_cols = [col for col in drop_cols if col in df.columns]\n",
    "\n",
    "        df.drop(drop_cols, axis=1, inplace=True)\n",
    "\n",
    "        # Label encode\n",
    "        df, encoded_col_names = label_encode_columns(df, cat_columns, mappings)\n",
    "        \n",
    "        # Augment using Bestagini's functions\n",
    "        df_preprocesed = shift_concat_gradient(df,\n",
    "                                               'DEPTH_MD',\n",
    "                                               'WELL',\n",
    "                                               encoded_col_names,\n",
    "                                               periods=1,\n",
    "                                               fill_value=None)\n",
    "       \n",
    "        return df_preprocesed\n",
    "\n",
    "    def fit(self, X, y):\n",
    "        split = 10\n",
    "        skf = StratifiedKFold(n_splits=split, shuffle=True)\n",
    "\n",
    "        model = XGBClassifier(n_estimators=100, max_depth=10, booster='gbtree',\n",
    "                              objective='multi:softprob', learning_rate=0.1, random_state=0,\n",
    "                              subsample=0.9, colsample_bytree=0.9, tree_method='gpu_hist',\n",
    "                              eval_metric='mlogloss', verbose=2020, reg_lambda=1500)\n",
    "        \n",
    "        models = []\n",
    "        for fold_number, indices in enumerate(skf.split(X, y)):\n",
    "            print(f'Fitting fold: {fold_number}')\n",
    "            \n",
    "            train_index, test_index = indices\n",
    "\n",
    "            X_train, X_test = X.iloc[train_index], X.iloc[test_index]\n",
    "            y_train, y_test = y.iloc[train_index], y.iloc[test_index]\n",
    "\n",
    "            model.fit(X_train,\n",
    "                      y_train,\n",
    "                      early_stopping_rounds=100,\n",
    "                      eval_set=[(X_test, y_test)],\n",
    "                      verbose=100)\n",
    "\n",
    "            models.append(model)\n",
    "\n",
    "        return models\n",
    "\n",
    "    def fit_predict(self, X_train, y_train, X_test, test_wells, save_filename):\n",
    "        # Fit\n",
    "        models = self.fit(X_train, y_train)\n",
    "\n",
    "        # Get lithologies probabilities for each model\n",
    "        models_proba = []\n",
    "        for model_num, model in enumerate(models):\n",
    "            model_proba = model.predict_proba(X_test)\n",
    "            model_classes = [ORDINAL_TO_LITHOLOGY[lith] for lith in model.classes_]\n",
    "\n",
    "            model_proba_df = pd.DataFrame(model_proba, columns=model_classes)\n",
    "\n",
    "            model_proba_df['MODEL'] = model_num\n",
    "\n",
    "            model_proba_df['WELL'] = test_wells\n",
    "            model_proba_df['DEPTH_MD'] = X_test['DEPTH_MD']\n",
    "\n",
    "            models_proba.append(model_proba_df)\n",
    "\n",
    "        models_proba = pd.concat(models_proba, ignore_index=True)\n",
    "\n",
    "        # Create save directory if it doesn't exists\n",
    "        if not save_filename.parent.is_dir():\n",
    "            save_filename.parent.mkdir(parents=True)\n",
    "\n",
    "        # Save models_proba to CSV\n",
    "        models_proba.to_csv(save_filename, index=False)\n",
    "\n",
    "        return models, models_proba"
   ]
  },
  {
   "cell_type": "markdown",
   "metadata": {
    "id": "B0mFUwb2xlHl"
   },
   "source": [
    "# Prepare train data"
   ]
  },
  {
   "cell_type": "code",
   "execution_count": 28,
   "metadata": {
    "executionInfo": {
     "elapsed": 807,
     "status": "ok",
     "timestamp": 1612011749000,
     "user": {
      "displayName": "Rafael Pinto",
      "photoUrl": "",
      "userId": "01213912175113627450"
     },
     "user_tz": 360
    },
    "id": "HwneqeF3z1jO"
   },
   "outputs": [],
   "source": [
    "y = train['FORCE_2020_LITHOFACIES_LITHOLOGY']\n",
    "X = train.drop('FORCE_2020_LITHOFACIES_LITHOLOGY', axis=1)"
   ]
  },
  {
   "cell_type": "code",
   "execution_count": 29,
   "metadata": {
    "executionInfo": {
     "elapsed": 388,
     "status": "ok",
     "timestamp": 1612011749326,
     "user": {
      "displayName": "Rafael Pinto",
      "photoUrl": "",
      "userId": "01213912175113627450"
     },
     "user_tz": 360
    },
    "id": "zJCHVSlJA-co"
   },
   "outputs": [],
   "source": [
    "# Map lithology codes to scoring matrix index\n",
    "y_train = y.map(KEYS_TO_ORDINAL)"
   ]
  },
  {
   "cell_type": "code",
   "execution_count": 30,
   "metadata": {
    "executionInfo": {
     "elapsed": 378,
     "status": "ok",
     "timestamp": 1612011750613,
     "user": {
      "displayName": "Rafael Pinto",
      "photoUrl": "",
      "userId": "01213912175113627450"
     },
     "user_tz": 360
    },
    "id": "En8Qv66eu1hx"
   },
   "outputs": [],
   "source": [
    "model = Model()"
   ]
  },
  {
   "cell_type": "code",
   "execution_count": 31,
   "metadata": {
    "colab": {
     "base_uri": "https://localhost:8080/"
    },
    "executionInfo": {
     "elapsed": 611,
     "status": "ok",
     "timestamp": 1612011751959,
     "user": {
      "displayName": "Rafael Pinto",
      "photoUrl": "",
      "userId": "01213912175113627450"
     },
     "user_tz": 360
    },
    "id": "dNO2kMhXZ0AS",
    "outputId": "4800be6f-3c3c-4b39-dc4d-721a7f14f12b"
   },
   "outputs": [
    {
     "data": {
      "text/plain": [
       "Index(['WELL', 'DEPTH_MD', 'X_LOC', 'Y_LOC', 'Z_LOC', 'GROUP', 'FORMATION',\n",
       "       'CALI', 'RSHA', 'RMED', 'RDEP', 'RHOB', 'GR', 'SGR', 'NPHI', 'PEF',\n",
       "       'DTC', 'SP', 'BS', 'ROP', 'DTS', 'DCAL', 'DRHO', 'MUDWEIGHT', 'RMIC',\n",
       "       'ROPA', 'RXO', 'FORCE_2020_LITHOFACIES_CONFIDENCE'],\n",
       "      dtype='object')"
      ]
     },
     "execution_count": 31,
     "metadata": {
      "tags": []
     },
     "output_type": "execute_result"
    }
   ],
   "source": [
    "X.columns"
   ]
  },
  {
   "cell_type": "code",
   "execution_count": 32,
   "metadata": {
    "executionInfo": {
     "elapsed": 4545,
     "status": "ok",
     "timestamp": 1612011757198,
     "user": {
      "displayName": "Rafael Pinto",
      "photoUrl": "",
      "userId": "01213912175113627450"
     },
     "user_tz": 360
    },
    "id": "5mELBxXDu1hx"
   },
   "outputs": [],
   "source": [
    "cat_columns = ['GROUP', 'FORMATION']\n",
    "\n",
    "train_mappings = {col: build_encoding_map(X[col]) for col in cat_columns}\n",
    "\n",
    "X_train = model.preprocess(X, cat_columns, train_mappings)"
   ]
  },
  {
   "cell_type": "code",
   "execution_count": 33,
   "metadata": {
    "executionInfo": {
     "elapsed": 964,
     "status": "ok",
     "timestamp": 1612011758848,
     "user": {
      "displayName": "Rafael Pinto",
      "photoUrl": "",
      "userId": "01213912175113627450"
     },
     "user_tz": 360
    },
    "id": "tJfgAoxISQzC"
   },
   "outputs": [],
   "source": [
    "X_train.drop('WELL', axis=1, inplace=True)"
   ]
  },
  {
   "cell_type": "code",
   "execution_count": 34,
   "metadata": {
    "colab": {
     "base_uri": "https://localhost:8080/"
    },
    "executionInfo": {
     "elapsed": 597,
     "status": "ok",
     "timestamp": 1612011760180,
     "user": {
      "displayName": "Rafael Pinto",
      "photoUrl": "",
      "userId": "01213912175113627450"
     },
     "user_tz": 360
    },
    "id": "19DUYb8-fpb6",
    "outputId": "dfc9f056-284c-4c85-8327-ad57160807fa"
   },
   "outputs": [
    {
     "data": {
      "text/plain": [
       "Index(['X_LOC_shifted_1', 'Y_LOC_shifted_1', 'Z_LOC_shifted_1',\n",
       "       'CALI_shifted_1', 'RSHA_shifted_1', 'RMED_shifted_1', 'RDEP_shifted_1',\n",
       "       'RHOB_shifted_1', 'GR_shifted_1', 'NPHI_shifted_1', 'PEF_shifted_1',\n",
       "       'DTC_shifted_1', 'SP_shifted_1', 'BS_shifted_1', 'ROP_shifted_1',\n",
       "       'DCAL_shifted_1', 'DRHO_shifted_1', 'MUDWEIGHT_shifted_1',\n",
       "       'RMIC_shifted_1', 'GROUP_encoded_shifted_1',\n",
       "       'FORMATION_encoded_shifted_1', 'X_LOC', 'Y_LOC', 'Z_LOC', 'CALI',\n",
       "       'RSHA', 'RMED', 'RDEP', 'RHOB', 'GR', 'NPHI', 'PEF', 'DTC', 'SP', 'BS',\n",
       "       'ROP', 'DCAL', 'DRHO', 'MUDWEIGHT', 'RMIC', 'GROUP_encoded',\n",
       "       'FORMATION_encoded', 'X_LOC_shifted_-1', 'Y_LOC_shifted_-1',\n",
       "       'Z_LOC_shifted_-1', 'CALI_shifted_-1', 'RSHA_shifted_-1',\n",
       "       'RMED_shifted_-1', 'RDEP_shifted_-1', 'RHOB_shifted_-1',\n",
       "       'GR_shifted_-1', 'NPHI_shifted_-1', 'PEF_shifted_-1', 'DTC_shifted_-1',\n",
       "       'SP_shifted_-1', 'BS_shifted_-1', 'ROP_shifted_-1', 'DCAL_shifted_-1',\n",
       "       'DRHO_shifted_-1', 'MUDWEIGHT_shifted_-1', 'RMIC_shifted_-1',\n",
       "       'GROUP_encoded_shifted_-1', 'FORMATION_encoded_shifted_-1', 'DEPTH_MD',\n",
       "       'X_LOC_gradient', 'Y_LOC_gradient', 'Z_LOC_gradient', 'CALI_gradient',\n",
       "       'RSHA_gradient', 'RMED_gradient', 'RDEP_gradient', 'RHOB_gradient',\n",
       "       'GR_gradient', 'NPHI_gradient', 'PEF_gradient', 'DTC_gradient',\n",
       "       'SP_gradient', 'BS_gradient', 'ROP_gradient', 'DCAL_gradient',\n",
       "       'DRHO_gradient', 'MUDWEIGHT_gradient', 'RMIC_gradient'],\n",
       "      dtype='object')"
      ]
     },
     "execution_count": 34,
     "metadata": {
      "tags": []
     },
     "output_type": "execute_result"
    }
   ],
   "source": [
    "X_train.columns"
   ]
  },
  {
   "cell_type": "markdown",
   "metadata": {
    "id": "zXA4OPsvxsFF"
   },
   "source": [
    "# Prepare test data"
   ]
  },
  {
   "cell_type": "code",
   "execution_count": 35,
   "metadata": {
    "colab": {
     "base_uri": "https://localhost:8080/"
    },
    "executionInfo": {
     "elapsed": 689,
     "status": "ok",
     "timestamp": 1612011762954,
     "user": {
      "displayName": "Rafael Pinto",
      "photoUrl": "",
      "userId": "01213912175113627450"
     },
     "user_tz": 360
    },
    "id": "xjs7KifMbJC1",
    "outputId": "87c5123b-b156-4d68-9e00-73a8b2fe42bc"
   },
   "outputs": [
    {
     "data": {
      "text/plain": [
       "(136786, 27)"
      ]
     },
     "execution_count": 35,
     "metadata": {
      "tags": []
     },
     "output_type": "execute_result"
    }
   ],
   "source": [
    "test.shape"
   ]
  },
  {
   "cell_type": "code",
   "execution_count": 36,
   "metadata": {
    "executionInfo": {
     "elapsed": 1205,
     "status": "ok",
     "timestamp": 1612011764721,
     "user": {
      "displayName": "Rafael Pinto",
      "photoUrl": "",
      "userId": "01213912175113627450"
     },
     "user_tz": 360
    },
    "id": "S6h_L5weZOtA"
   },
   "outputs": [],
   "source": [
    "X_test = model.preprocess(test, cat_columns, train_mappings)\n",
    "X_test.drop('WELL', axis=1, inplace=True)"
   ]
  },
  {
   "cell_type": "code",
   "execution_count": 37,
   "metadata": {
    "colab": {
     "base_uri": "https://localhost:8080/"
    },
    "executionInfo": {
     "elapsed": 408,
     "status": "ok",
     "timestamp": 1612011765650,
     "user": {
      "displayName": "Rafael Pinto",
      "photoUrl": "",
      "userId": "01213912175113627450"
     },
     "user_tz": 360
    },
    "id": "BbvVEyfMb818",
    "outputId": "0e81b190-6c1d-4c73-e441-54e16053567e"
   },
   "outputs": [
    {
     "data": {
      "text/plain": [
       "(136786, 83)"
      ]
     },
     "execution_count": 37,
     "metadata": {
      "tags": []
     },
     "output_type": "execute_result"
    }
   ],
   "source": [
    "X_test.shape"
   ]
  },
  {
   "cell_type": "code",
   "execution_count": 38,
   "metadata": {
    "colab": {
     "base_uri": "https://localhost:8080/"
    },
    "executionInfo": {
     "elapsed": 645,
     "status": "ok",
     "timestamp": 1612011767077,
     "user": {
      "displayName": "Rafael Pinto",
      "photoUrl": "",
      "userId": "01213912175113627450"
     },
     "user_tz": 360
    },
    "id": "CDlqXc1oasD3",
    "outputId": "d0f9d0a9-ab4f-4402-8224-440d7fd8555f"
   },
   "outputs": [
    {
     "data": {
      "text/plain": [
       "Index(['X_LOC_shifted_1', 'Y_LOC_shifted_1', 'Z_LOC_shifted_1',\n",
       "       'CALI_shifted_1', 'RSHA_shifted_1', 'RMED_shifted_1', 'RDEP_shifted_1',\n",
       "       'RHOB_shifted_1', 'GR_shifted_1', 'NPHI_shifted_1', 'PEF_shifted_1',\n",
       "       'DTC_shifted_1', 'SP_shifted_1', 'BS_shifted_1', 'ROP_shifted_1',\n",
       "       'DCAL_shifted_1', 'DRHO_shifted_1', 'MUDWEIGHT_shifted_1',\n",
       "       'RMIC_shifted_1', 'GROUP_encoded_shifted_1',\n",
       "       'FORMATION_encoded_shifted_1', 'X_LOC', 'Y_LOC', 'Z_LOC', 'CALI',\n",
       "       'RSHA', 'RMED', 'RDEP', 'RHOB', 'GR', 'NPHI', 'PEF', 'DTC', 'SP', 'BS',\n",
       "       'ROP', 'DCAL', 'DRHO', 'MUDWEIGHT', 'RMIC', 'GROUP_encoded',\n",
       "       'FORMATION_encoded', 'X_LOC_shifted_-1', 'Y_LOC_shifted_-1',\n",
       "       'Z_LOC_shifted_-1', 'CALI_shifted_-1', 'RSHA_shifted_-1',\n",
       "       'RMED_shifted_-1', 'RDEP_shifted_-1', 'RHOB_shifted_-1',\n",
       "       'GR_shifted_-1', 'NPHI_shifted_-1', 'PEF_shifted_-1', 'DTC_shifted_-1',\n",
       "       'SP_shifted_-1', 'BS_shifted_-1', 'ROP_shifted_-1', 'DCAL_shifted_-1',\n",
       "       'DRHO_shifted_-1', 'MUDWEIGHT_shifted_-1', 'RMIC_shifted_-1',\n",
       "       'GROUP_encoded_shifted_-1', 'FORMATION_encoded_shifted_-1', 'DEPTH_MD',\n",
       "       'X_LOC_gradient', 'Y_LOC_gradient', 'Z_LOC_gradient', 'CALI_gradient',\n",
       "       'RSHA_gradient', 'RMED_gradient', 'RDEP_gradient', 'RHOB_gradient',\n",
       "       'GR_gradient', 'NPHI_gradient', 'PEF_gradient', 'DTC_gradient',\n",
       "       'SP_gradient', 'BS_gradient', 'ROP_gradient', 'DCAL_gradient',\n",
       "       'DRHO_gradient', 'MUDWEIGHT_gradient', 'RMIC_gradient'],\n",
       "      dtype='object')"
      ]
     },
     "execution_count": 38,
     "metadata": {
      "tags": []
     },
     "output_type": "execute_result"
    }
   ],
   "source": [
    "X_test.columns"
   ]
  },
  {
   "cell_type": "markdown",
   "metadata": {
    "id": "FqwB9tmySP74"
   },
   "source": [
    "# Fit and predict"
   ]
  },
  {
   "cell_type": "code",
   "execution_count": 39,
   "metadata": {
    "executionInfo": {
     "elapsed": 1086,
     "status": "ok",
     "timestamp": 1612011774539,
     "user": {
      "displayName": "Rafael Pinto",
      "photoUrl": "",
      "userId": "01213912175113627450"
     },
     "user_tz": 360
    },
    "id": "xwpDyV1fvpBs"
   },
   "outputs": [],
   "source": [
    "save_filename = out_data_dir / 'model_proba/models_proba_most_coulmns_with_nans.csv'"
   ]
  },
  {
   "cell_type": "code",
   "execution_count": 40,
   "metadata": {
    "executionInfo": {
     "elapsed": 571,
     "status": "ok",
     "timestamp": 1612011776059,
     "user": {
      "displayName": "Rafael Pinto",
      "photoUrl": "",
      "userId": "01213912175113627450"
     },
     "user_tz": 360
    },
    "id": "90mSTaF2qVo4"
   },
   "outputs": [],
   "source": [
    "test_wells = test['WELL']"
   ]
  },
  {
   "cell_type": "code",
   "execution_count": 41,
   "metadata": {
    "colab": {
     "base_uri": "https://localhost:8080/"
    },
    "executionInfo": {
     "elapsed": 728881,
     "status": "ok",
     "timestamp": 1612012505638,
     "user": {
      "displayName": "Rafael Pinto",
      "photoUrl": "",
      "userId": "01213912175113627450"
     },
     "user_tz": 360
    },
    "id": "2fvmd_GqwVVk",
    "outputId": "991352c9-18bd-4c5f-b4fc-0e97dbb6b5d9"
   },
   "outputs": [
    {
     "name": "stdout",
     "output_type": "stream",
     "text": [
      "Fitting fold: 0\n",
      "[0]\tvalidation_0-mlogloss:2.15773\n",
      "Will train until validation_0-mlogloss hasn't improved in 100 rounds.\n",
      "[99]\tvalidation_0-mlogloss:0.315518\n",
      "Fitting fold: 1\n",
      "[0]\tvalidation_0-mlogloss:2.15809\n",
      "Will train until validation_0-mlogloss hasn't improved in 100 rounds.\n",
      "[99]\tvalidation_0-mlogloss:0.315287\n",
      "Fitting fold: 2\n",
      "[0]\tvalidation_0-mlogloss:2.1583\n",
      "Will train until validation_0-mlogloss hasn't improved in 100 rounds.\n",
      "[99]\tvalidation_0-mlogloss:0.314631\n",
      "Fitting fold: 3\n",
      "[0]\tvalidation_0-mlogloss:2.15722\n",
      "Will train until validation_0-mlogloss hasn't improved in 100 rounds.\n",
      "[99]\tvalidation_0-mlogloss:0.312313\n",
      "Fitting fold: 4\n",
      "[0]\tvalidation_0-mlogloss:2.15673\n",
      "Will train until validation_0-mlogloss hasn't improved in 100 rounds.\n",
      "[99]\tvalidation_0-mlogloss:0.313953\n",
      "Fitting fold: 5\n",
      "[0]\tvalidation_0-mlogloss:2.15752\n",
      "Will train until validation_0-mlogloss hasn't improved in 100 rounds.\n",
      "[99]\tvalidation_0-mlogloss:0.317564\n",
      "Fitting fold: 6\n",
      "[0]\tvalidation_0-mlogloss:2.15743\n",
      "Will train until validation_0-mlogloss hasn't improved in 100 rounds.\n",
      "[99]\tvalidation_0-mlogloss:0.315267\n",
      "Fitting fold: 7\n",
      "[0]\tvalidation_0-mlogloss:2.15777\n",
      "Will train until validation_0-mlogloss hasn't improved in 100 rounds.\n",
      "[99]\tvalidation_0-mlogloss:0.311256\n",
      "Fitting fold: 8\n",
      "[0]\tvalidation_0-mlogloss:2.15809\n",
      "Will train until validation_0-mlogloss hasn't improved in 100 rounds.\n",
      "[99]\tvalidation_0-mlogloss:0.315827\n",
      "Fitting fold: 9\n",
      "[0]\tvalidation_0-mlogloss:2.15731\n",
      "Will train until validation_0-mlogloss hasn't improved in 100 rounds.\n",
      "[99]\tvalidation_0-mlogloss:0.311039\n"
     ]
    }
   ],
   "source": [
    "if save_filename.is_file():\n",
    "    models_proba = pd.read_csv(save_filename)\n",
    "\n",
    "else:\n",
    "    models, models_proba = model.fit_predict(X_train, y_train, X_test, test_wells, save_filename)"
   ]
  },
  {
   "cell_type": "markdown",
   "metadata": {
    "id": "JYmWcsrk1sBM"
   },
   "source": [
    "# Explore models proba"
   ]
  },
  {
   "cell_type": "code",
   "execution_count": 42,
   "metadata": {
    "colab": {
     "base_uri": "https://localhost:8080/",
     "height": 359
    },
    "executionInfo": {
     "elapsed": 945,
     "status": "ok",
     "timestamp": 1612012519939,
     "user": {
      "displayName": "Rafael Pinto",
      "photoUrl": "",
      "userId": "01213912175113627450"
     },
     "user_tz": 360
    },
    "id": "KfKORh-avywY",
    "outputId": "54ca5e80-f0d0-40c4-a771-01cab3961ee5"
   },
   "outputs": [
    {
     "data": {
      "text/html": [
       "<div>\n",
       "<style scoped>\n",
       "    .dataframe tbody tr th:only-of-type {\n",
       "        vertical-align: middle;\n",
       "    }\n",
       "\n",
       "    .dataframe tbody tr th {\n",
       "        vertical-align: top;\n",
       "    }\n",
       "\n",
       "    .dataframe thead th {\n",
       "        text-align: right;\n",
       "    }\n",
       "</style>\n",
       "<table border=\"1\" class=\"dataframe\">\n",
       "  <thead>\n",
       "    <tr style=\"text-align: right;\">\n",
       "      <th></th>\n",
       "      <th>Sandstone</th>\n",
       "      <th>Sandstone/Shale</th>\n",
       "      <th>Shale</th>\n",
       "      <th>Marl</th>\n",
       "      <th>Dolomite</th>\n",
       "      <th>Limestone</th>\n",
       "      <th>Chalk</th>\n",
       "      <th>Halite</th>\n",
       "      <th>Anhydrite</th>\n",
       "      <th>Tuff</th>\n",
       "      <th>Coal</th>\n",
       "      <th>Basement</th>\n",
       "      <th>MODEL</th>\n",
       "      <th>WELL</th>\n",
       "      <th>DEPTH_MD</th>\n",
       "    </tr>\n",
       "  </thead>\n",
       "  <tbody>\n",
       "    <tr>\n",
       "      <th>1326836</th>\n",
       "      <td>0.007512</td>\n",
       "      <td>0.052519</td>\n",
       "      <td>0.913034</td>\n",
       "      <td>0.011219</td>\n",
       "      <td>0.001177</td>\n",
       "      <td>0.009917</td>\n",
       "      <td>0.000792</td>\n",
       "      <td>0.000714</td>\n",
       "      <td>0.000713</td>\n",
       "      <td>0.000895</td>\n",
       "      <td>0.000837</td>\n",
       "      <td>0.000669</td>\n",
       "      <td>9</td>\n",
       "      <td>34/3-3 A</td>\n",
       "      <td>2445.001975</td>\n",
       "    </tr>\n",
       "    <tr>\n",
       "      <th>1336779</th>\n",
       "      <td>0.021318</td>\n",
       "      <td>0.240146</td>\n",
       "      <td>0.688344</td>\n",
       "      <td>0.010420</td>\n",
       "      <td>0.002426</td>\n",
       "      <td>0.024052</td>\n",
       "      <td>0.001632</td>\n",
       "      <td>0.001472</td>\n",
       "      <td>0.001470</td>\n",
       "      <td>0.002779</td>\n",
       "      <td>0.004561</td>\n",
       "      <td>0.001379</td>\n",
       "      <td>9</td>\n",
       "      <td>34/3-3 A</td>\n",
       "      <td>3956.793976</td>\n",
       "    </tr>\n",
       "    <tr>\n",
       "      <th>528359</th>\n",
       "      <td>0.141503</td>\n",
       "      <td>0.673034</td>\n",
       "      <td>0.134422</td>\n",
       "      <td>0.004239</td>\n",
       "      <td>0.002500</td>\n",
       "      <td>0.031148</td>\n",
       "      <td>0.001697</td>\n",
       "      <td>0.001761</td>\n",
       "      <td>0.001529</td>\n",
       "      <td>0.002891</td>\n",
       "      <td>0.003841</td>\n",
       "      <td>0.001434</td>\n",
       "      <td>3</td>\n",
       "      <td>34/6-1 S</td>\n",
       "      <td>4186.890400</td>\n",
       "    </tr>\n",
       "    <tr>\n",
       "      <th>121392</th>\n",
       "      <td>0.032016</td>\n",
       "      <td>0.021371</td>\n",
       "      <td>0.890595</td>\n",
       "      <td>0.030048</td>\n",
       "      <td>0.002474</td>\n",
       "      <td>0.013787</td>\n",
       "      <td>0.001664</td>\n",
       "      <td>0.001501</td>\n",
       "      <td>0.001499</td>\n",
       "      <td>0.001880</td>\n",
       "      <td>0.001759</td>\n",
       "      <td>0.001406</td>\n",
       "      <td>0</td>\n",
       "      <td>35/6-2 S</td>\n",
       "      <td>2001.480467</td>\n",
       "    </tr>\n",
       "    <tr>\n",
       "      <th>763470</th>\n",
       "      <td>0.016762</td>\n",
       "      <td>0.140625</td>\n",
       "      <td>0.813136</td>\n",
       "      <td>0.002220</td>\n",
       "      <td>0.002225</td>\n",
       "      <td>0.005669</td>\n",
       "      <td>0.001347</td>\n",
       "      <td>0.001197</td>\n",
       "      <td>0.001195</td>\n",
       "      <td>0.012574</td>\n",
       "      <td>0.001929</td>\n",
       "      <td>0.001121</td>\n",
       "      <td>5</td>\n",
       "      <td>34/10-16 R</td>\n",
       "      <td>1778.760008</td>\n",
       "    </tr>\n",
       "    <tr>\n",
       "      <th>1053570</th>\n",
       "      <td>0.020330</td>\n",
       "      <td>0.152461</td>\n",
       "      <td>0.737823</td>\n",
       "      <td>0.017154</td>\n",
       "      <td>0.006371</td>\n",
       "      <td>0.055132</td>\n",
       "      <td>0.001839</td>\n",
       "      <td>0.001659</td>\n",
       "      <td>0.001657</td>\n",
       "      <td>0.002077</td>\n",
       "      <td>0.001943</td>\n",
       "      <td>0.001553</td>\n",
       "      <td>7</td>\n",
       "      <td>34/3-3 A</td>\n",
       "      <td>2491.513976</td>\n",
       "    </tr>\n",
       "    <tr>\n",
       "      <th>732232</th>\n",
       "      <td>0.976785</td>\n",
       "      <td>0.009338</td>\n",
       "      <td>0.006572</td>\n",
       "      <td>0.000685</td>\n",
       "      <td>0.000704</td>\n",
       "      <td>0.001731</td>\n",
       "      <td>0.001128</td>\n",
       "      <td>0.000691</td>\n",
       "      <td>0.000370</td>\n",
       "      <td>0.001216</td>\n",
       "      <td>0.000434</td>\n",
       "      <td>0.000347</td>\n",
       "      <td>5</td>\n",
       "      <td>29/3-1</td>\n",
       "      <td>1178.978001</td>\n",
       "    </tr>\n",
       "    <tr>\n",
       "      <th>962805</th>\n",
       "      <td>0.938071</td>\n",
       "      <td>0.028263</td>\n",
       "      <td>0.014459</td>\n",
       "      <td>0.005769</td>\n",
       "      <td>0.001248</td>\n",
       "      <td>0.003633</td>\n",
       "      <td>0.003960</td>\n",
       "      <td>0.000612</td>\n",
       "      <td>0.000611</td>\n",
       "      <td>0.001929</td>\n",
       "      <td>0.000872</td>\n",
       "      <td>0.000573</td>\n",
       "      <td>7</td>\n",
       "      <td>15/9-14</td>\n",
       "      <td>1288.052001</td>\n",
       "    </tr>\n",
       "    <tr>\n",
       "      <th>497037</th>\n",
       "      <td>0.006493</td>\n",
       "      <td>0.036118</td>\n",
       "      <td>0.942451</td>\n",
       "      <td>0.006270</td>\n",
       "      <td>0.000813</td>\n",
       "      <td>0.004388</td>\n",
       "      <td>0.000594</td>\n",
       "      <td>0.000536</td>\n",
       "      <td>0.000535</td>\n",
       "      <td>0.000671</td>\n",
       "      <td>0.000628</td>\n",
       "      <td>0.000502</td>\n",
       "      <td>3</td>\n",
       "      <td>34/10-16 R</td>\n",
       "      <td>2863.888008</td>\n",
       "    </tr>\n",
       "    <tr>\n",
       "      <th>582860</th>\n",
       "      <td>0.016466</td>\n",
       "      <td>0.019671</td>\n",
       "      <td>0.952036</td>\n",
       "      <td>0.001303</td>\n",
       "      <td>0.001047</td>\n",
       "      <td>0.004608</td>\n",
       "      <td>0.000758</td>\n",
       "      <td>0.000684</td>\n",
       "      <td>0.000683</td>\n",
       "      <td>0.001166</td>\n",
       "      <td>0.000935</td>\n",
       "      <td>0.000641</td>\n",
       "      <td>4</td>\n",
       "      <td>25/5-3</td>\n",
       "      <td>1445.515190</td>\n",
       "    </tr>\n",
       "  </tbody>\n",
       "</table>\n",
       "</div>"
      ],
      "text/plain": [
       "         Sandstone  Sandstone/Shale     Shale  ...  MODEL        WELL     DEPTH_MD\n",
       "1326836   0.007512         0.052519  0.913034  ...      9    34/3-3 A  2445.001975\n",
       "1336779   0.021318         0.240146  0.688344  ...      9    34/3-3 A  3956.793976\n",
       "528359    0.141503         0.673034  0.134422  ...      3    34/6-1 S  4186.890400\n",
       "121392    0.032016         0.021371  0.890595  ...      0    35/6-2 S  2001.480467\n",
       "763470    0.016762         0.140625  0.813136  ...      5  34/10-16 R  1778.760008\n",
       "1053570   0.020330         0.152461  0.737823  ...      7    34/3-3 A  2491.513976\n",
       "732232    0.976785         0.009338  0.006572  ...      5      29/3-1  1178.978001\n",
       "962805    0.938071         0.028263  0.014459  ...      7     15/9-14  1288.052001\n",
       "497037    0.006493         0.036118  0.942451  ...      3  34/10-16 R  2863.888008\n",
       "582860    0.016466         0.019671  0.952036  ...      4      25/5-3  1445.515190\n",
       "\n",
       "[10 rows x 15 columns]"
      ]
     },
     "execution_count": 42,
     "metadata": {
      "tags": []
     },
     "output_type": "execute_result"
    }
   ],
   "source": [
    "models_proba.sample(10)"
   ]
  },
  {
   "cell_type": "code",
   "execution_count": 43,
   "metadata": {
    "colab": {
     "base_uri": "https://localhost:8080/",
     "height": 297
    },
    "executionInfo": {
     "elapsed": 1472,
     "status": "ok",
     "timestamp": 1612012528671,
     "user": {
      "displayName": "Rafael Pinto",
      "photoUrl": "",
      "userId": "01213912175113627450"
     },
     "user_tz": 360
    },
    "id": "gIIZ5had1vaO",
    "outputId": "2a13171f-ff5c-4816-e14d-08e23edfa519"
   },
   "outputs": [
    {
     "data": {
      "text/html": [
       "<div>\n",
       "<style scoped>\n",
       "    .dataframe tbody tr th:only-of-type {\n",
       "        vertical-align: middle;\n",
       "    }\n",
       "\n",
       "    .dataframe tbody tr th {\n",
       "        vertical-align: top;\n",
       "    }\n",
       "\n",
       "    .dataframe thead th {\n",
       "        text-align: right;\n",
       "    }\n",
       "</style>\n",
       "<table border=\"1\" class=\"dataframe\">\n",
       "  <thead>\n",
       "    <tr style=\"text-align: right;\">\n",
       "      <th></th>\n",
       "      <th>Sandstone</th>\n",
       "      <th>Sandstone/Shale</th>\n",
       "      <th>Shale</th>\n",
       "      <th>Marl</th>\n",
       "      <th>Dolomite</th>\n",
       "      <th>Limestone</th>\n",
       "      <th>Chalk</th>\n",
       "      <th>Halite</th>\n",
       "      <th>Anhydrite</th>\n",
       "      <th>Tuff</th>\n",
       "      <th>Coal</th>\n",
       "      <th>Basement</th>\n",
       "      <th>MODEL</th>\n",
       "      <th>DEPTH_MD</th>\n",
       "    </tr>\n",
       "  </thead>\n",
       "  <tbody>\n",
       "    <tr>\n",
       "      <th>count</th>\n",
       "      <td>1.367860e+06</td>\n",
       "      <td>1.367860e+06</td>\n",
       "      <td>1.367860e+06</td>\n",
       "      <td>1.367860e+06</td>\n",
       "      <td>1.367860e+06</td>\n",
       "      <td>1.367860e+06</td>\n",
       "      <td>1.367860e+06</td>\n",
       "      <td>1.367860e+06</td>\n",
       "      <td>1.367860e+06</td>\n",
       "      <td>1.367860e+06</td>\n",
       "      <td>1.367860e+06</td>\n",
       "      <td>1.367860e+06</td>\n",
       "      <td>1.367860e+06</td>\n",
       "      <td>1.367860e+06</td>\n",
       "    </tr>\n",
       "    <tr>\n",
       "      <th>mean</th>\n",
       "      <td>1.760948e-01</td>\n",
       "      <td>1.258910e-01</td>\n",
       "      <td>5.993884e-01</td>\n",
       "      <td>2.466117e-02</td>\n",
       "      <td>2.513961e-03</td>\n",
       "      <td>4.953248e-02</td>\n",
       "      <td>3.185821e-03</td>\n",
       "      <td>1.168531e-03</td>\n",
       "      <td>1.277957e-03</td>\n",
       "      <td>9.646203e-03</td>\n",
       "      <td>5.003699e-03</td>\n",
       "      <td>1.003095e-03</td>\n",
       "      <td>4.500000e+00</td>\n",
       "      <td>2.501137e+03</td>\n",
       "    </tr>\n",
       "    <tr>\n",
       "      <th>std</th>\n",
       "      <td>3.035841e-01</td>\n",
       "      <td>1.683862e-01</td>\n",
       "      <td>3.648631e-01</td>\n",
       "      <td>7.894208e-02</td>\n",
       "      <td>2.895967e-03</td>\n",
       "      <td>1.287274e-01</td>\n",
       "      <td>1.445256e-02</td>\n",
       "      <td>1.110483e-03</td>\n",
       "      <td>4.599290e-03</td>\n",
       "      <td>7.098751e-02</td>\n",
       "      <td>3.857079e-02</td>\n",
       "      <td>7.820701e-04</td>\n",
       "      <td>2.872282e+00</td>\n",
       "      <td>1.043242e+03</td>\n",
       "    </tr>\n",
       "    <tr>\n",
       "      <th>min</th>\n",
       "      <td>8.448027e-04</td>\n",
       "      <td>1.235513e-03</td>\n",
       "      <td>1.849497e-03</td>\n",
       "      <td>2.471236e-04</td>\n",
       "      <td>2.311292e-04</td>\n",
       "      <td>4.672443e-04</td>\n",
       "      <td>1.566672e-04</td>\n",
       "      <td>1.309385e-04</td>\n",
       "      <td>1.307613e-04</td>\n",
       "      <td>1.983488e-04</td>\n",
       "      <td>1.671492e-04</td>\n",
       "      <td>1.226087e-04</td>\n",
       "      <td>0.000000e+00</td>\n",
       "      <td>2.272960e+02</td>\n",
       "    </tr>\n",
       "    <tr>\n",
       "      <th>25%</th>\n",
       "      <td>9.604599e-03</td>\n",
       "      <td>2.359712e-02</td>\n",
       "      <td>1.850417e-01</td>\n",
       "      <td>1.625594e-03</td>\n",
       "      <td>9.252984e-04</td>\n",
       "      <td>4.260112e-03</td>\n",
       "      <td>6.882823e-04</td>\n",
       "      <td>5.182012e-04</td>\n",
       "      <td>5.083355e-04</td>\n",
       "      <td>9.692716e-04</td>\n",
       "      <td>7.296928e-04</td>\n",
       "      <td>4.720749e-04</td>\n",
       "      <td>2.000000e+00</td>\n",
       "      <td>1.707942e+03</td>\n",
       "    </tr>\n",
       "    <tr>\n",
       "      <th>50%</th>\n",
       "      <td>2.425875e-02</td>\n",
       "      <td>6.091821e-02</td>\n",
       "      <td>7.739720e-01</td>\n",
       "      <td>4.232192e-03</td>\n",
       "      <td>1.760058e-03</td>\n",
       "      <td>1.095004e-02</td>\n",
       "      <td>1.193020e-03</td>\n",
       "      <td>9.216065e-04</td>\n",
       "      <td>9.069698e-04</td>\n",
       "      <td>1.834812e-03</td>\n",
       "      <td>1.421012e-03</td>\n",
       "      <td>8.380773e-04</td>\n",
       "      <td>4.500000e+00</td>\n",
       "      <td>2.471824e+03</td>\n",
       "    </tr>\n",
       "    <tr>\n",
       "      <th>75%</th>\n",
       "      <td>1.205682e-01</td>\n",
       "      <td>1.459084e-01</td>\n",
       "      <td>9.098477e-01</td>\n",
       "      <td>1.277816e-02</td>\n",
       "      <td>2.866496e-03</td>\n",
       "      <td>2.833157e-02</td>\n",
       "      <td>1.833400e-03</td>\n",
       "      <td>1.488548e-03</td>\n",
       "      <td>1.481686e-03</td>\n",
       "      <td>2.702224e-03</td>\n",
       "      <td>2.953737e-03</td>\n",
       "      <td>1.362445e-03</td>\n",
       "      <td>7.000000e+00</td>\n",
       "      <td>3.294656e+03</td>\n",
       "    </tr>\n",
       "    <tr>\n",
       "      <th>max</th>\n",
       "      <td>9.878969e-01</td>\n",
       "      <td>9.588218e-01</td>\n",
       "      <td>9.934804e-01</td>\n",
       "      <td>8.601206e-01</td>\n",
       "      <td>7.766007e-02</td>\n",
       "      <td>9.840482e-01</td>\n",
       "      <td>2.385651e-01</td>\n",
       "      <td>4.968979e-02</td>\n",
       "      <td>2.650807e-01</td>\n",
       "      <td>9.532109e-01</td>\n",
       "      <td>9.402908e-01</td>\n",
       "      <td>1.862815e-02</td>\n",
       "      <td>9.000000e+00</td>\n",
       "      <td>5.007418e+03</td>\n",
       "    </tr>\n",
       "  </tbody>\n",
       "</table>\n",
       "</div>"
      ],
      "text/plain": [
       "          Sandstone  Sandstone/Shale  ...         MODEL      DEPTH_MD\n",
       "count  1.367860e+06     1.367860e+06  ...  1.367860e+06  1.367860e+06\n",
       "mean   1.760948e-01     1.258910e-01  ...  4.500000e+00  2.501137e+03\n",
       "std    3.035841e-01     1.683862e-01  ...  2.872282e+00  1.043242e+03\n",
       "min    8.448027e-04     1.235513e-03  ...  0.000000e+00  2.272960e+02\n",
       "25%    9.604599e-03     2.359712e-02  ...  2.000000e+00  1.707942e+03\n",
       "50%    2.425875e-02     6.091821e-02  ...  4.500000e+00  2.471824e+03\n",
       "75%    1.205682e-01     1.459084e-01  ...  7.000000e+00  3.294656e+03\n",
       "max    9.878969e-01     9.588218e-01  ...  9.000000e+00  5.007418e+03\n",
       "\n",
       "[8 rows x 14 columns]"
      ]
     },
     "execution_count": 43,
     "metadata": {
      "tags": []
     },
     "output_type": "execute_result"
    }
   ],
   "source": [
    "models_proba.describe()"
   ]
  },
  {
   "cell_type": "code",
   "execution_count": null,
   "metadata": {
    "id": "NpCEeH0c16qR"
   },
   "outputs": [],
   "source": []
  }
 ],
 "metadata": {
  "accelerator": "GPU",
  "colab": {
   "collapsed_sections": [],
   "name": "7.0-rp-fit-predict-save-proba-most-columns-colab.ipynb",
   "provenance": []
  },
  "kernelspec": {
   "display_name": "Python 3",
   "language": "python",
   "name": "python3"
  },
  "language_info": {
   "codemirror_mode": {
    "name": "ipython",
    "version": 3
   },
   "file_extension": ".py",
   "mimetype": "text/x-python",
   "name": "python",
   "nbconvert_exporter": "python",
   "pygments_lexer": "ipython3",
   "version": "3.8.6"
  },
  "toc": {
   "base_numbering": 1,
   "nav_menu": {},
   "number_sections": true,
   "sideBar": true,
   "skip_h1_title": false,
   "title_cell": "Table of Contents",
   "title_sidebar": "Contents",
   "toc_cell": false,
   "toc_position": {},
   "toc_section_display": true,
   "toc_window_display": false
  }
 },
 "nbformat": 4,
 "nbformat_minor": 1
}
